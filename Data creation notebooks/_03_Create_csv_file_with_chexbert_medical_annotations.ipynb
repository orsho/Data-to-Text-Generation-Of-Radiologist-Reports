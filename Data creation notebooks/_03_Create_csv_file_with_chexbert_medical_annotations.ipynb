{
  "nbformat": 4,
  "nbformat_minor": 0,
  "metadata": {
    "colab": {
      "name": "_03_Create_csv_file_with_chexbert_medical_annotations.ipynb",
      "provenance": [],
      "collapsed_sections": [],
      "toc_visible": true
    },
    "kernelspec": {
      "display_name": "Python 3",
      "language": "python",
      "name": "python3"
    },
    "language_info": {
      "codemirror_mode": {
        "name": "ipython",
        "version": 3
      },
      "file_extension": ".py",
      "mimetype": "text/x-python",
      "name": "python",
      "nbconvert_exporter": "python",
      "pygments_lexer": "ipython3",
      "version": "3.8.3"
    }
  },
  "cells": [
    {
      "cell_type": "markdown",
      "metadata": {
        "id": "AolerU6nNgr1"
      },
      "source": [
        "# Create csv file with Chexbert medical annotaions"
      ]
    },
    {
      "cell_type": "code",
      "metadata": {
        "colab": {
          "base_uri": "https://localhost:8080/"
        },
        "id": "exCZ8xiFNg0G",
        "outputId": "fdc73fa7-8208-47f0-c5c6-4239ea64b477"
      },
      "source": [
        "!pip install transformers -q\n",
        "!pip install sentencepiece -q"
      ],
      "execution_count": 1,
      "outputs": [
        {
          "output_type": "stream",
          "name": "stdout",
          "text": [
            "\u001b[K     |████████████████████████████████| 3.1 MB 29.1 MB/s \n",
            "\u001b[K     |████████████████████████████████| 59 kB 6.1 MB/s \n",
            "\u001b[K     |████████████████████████████████| 3.3 MB 44.2 MB/s \n",
            "\u001b[K     |████████████████████████████████| 895 kB 19.2 MB/s \n",
            "\u001b[K     |████████████████████████████████| 596 kB 38.5 MB/s \n",
            "\u001b[K     |████████████████████████████████| 1.2 MB 29.1 MB/s \n",
            "\u001b[?25h"
          ]
        }
      ]
    },
    {
      "cell_type": "code",
      "metadata": {
        "id": "CMCzVL1_ofdV"
      },
      "source": [
        "import numpy as np\n",
        "import pandas as pd\n",
        "import matplotlib.pyplot as plt\n",
        "import seaborn as sns\n",
        "import re\n",
        "import sklearn\n"
      ],
      "execution_count": 2,
      "outputs": []
    },
    {
      "cell_type": "code",
      "metadata": {
        "colab": {
          "base_uri": "https://localhost:8080/"
        },
        "id": "q3-5OOoNGgAf",
        "outputId": "5c325029-de1c-4405-e0da-db857b23acef"
      },
      "source": [
        "from google.colab import drive\n",
        "drive.mount('/content/drive', force_remount=True)"
      ],
      "execution_count": 3,
      "outputs": [
        {
          "output_type": "stream",
          "name": "stdout",
          "text": [
            "Mounted at /content/drive\n"
          ]
        }
      ]
    },
    {
      "cell_type": "markdown",
      "metadata": {
        "id": "sIgr-WzERVfE"
      },
      "source": [
        "## Add the chexbert medical annotations in one column"
      ]
    },
    {
      "cell_type": "code",
      "metadata": {
        "colab": {
          "base_uri": "https://localhost:8080/",
          "height": 494
        },
        "id": "RYOErWn6RVsc",
        "outputId": "3f8f2d3a-b137-4e38-fec2-19f368336ead"
      },
      "source": [
        "#load chexbert annotations file\n",
        "#this file was created through guideness of - https://github.com/stanfordmlgroup/CheXbert\n",
        "chexbert_df = pd.read_csv(\"/content/drive/My Drive/Final project - Zebra/Final data/mimic-cxr-2.0.0-chexbert.csv\")\n",
        "chexbert_df.head()"
      ],
      "execution_count": 4,
      "outputs": [
        {
          "output_type": "execute_result",
          "data": {
            "text/html": [
              "<div>\n",
              "<style scoped>\n",
              "    .dataframe tbody tr th:only-of-type {\n",
              "        vertical-align: middle;\n",
              "    }\n",
              "\n",
              "    .dataframe tbody tr th {\n",
              "        vertical-align: top;\n",
              "    }\n",
              "\n",
              "    .dataframe thead th {\n",
              "        text-align: right;\n",
              "    }\n",
              "</style>\n",
              "<table border=\"1\" class=\"dataframe\">\n",
              "  <thead>\n",
              "    <tr style=\"text-align: right;\">\n",
              "      <th></th>\n",
              "      <th>Report Impression</th>\n",
              "      <th>Enlarged Cardiomediastinum</th>\n",
              "      <th>Cardiomegaly</th>\n",
              "      <th>Lung Opacity</th>\n",
              "      <th>Lung Lesion</th>\n",
              "      <th>Edema</th>\n",
              "      <th>Consolidation</th>\n",
              "      <th>Pneumonia</th>\n",
              "      <th>Atelectasis</th>\n",
              "      <th>Pneumothorax</th>\n",
              "      <th>Pleural Effusion</th>\n",
              "      <th>Pleural Other</th>\n",
              "      <th>Fracture</th>\n",
              "      <th>Support Devices</th>\n",
              "      <th>No Finding</th>\n",
              "    </tr>\n",
              "  </thead>\n",
              "  <tbody>\n",
              "    <tr>\n",
              "      <th>0</th>\n",
              "      <td>IMPRESSION:   No acute cardiopulmonary process.</td>\n",
              "      <td>NaN</td>\n",
              "      <td>NaN</td>\n",
              "      <td>NaN</td>\n",
              "      <td>NaN</td>\n",
              "      <td>NaN</td>\n",
              "      <td>NaN</td>\n",
              "      <td>NaN</td>\n",
              "      <td>NaN</td>\n",
              "      <td>NaN</td>\n",
              "      <td>NaN</td>\n",
              "      <td>NaN</td>\n",
              "      <td>NaN</td>\n",
              "      <td>NaN</td>\n",
              "      <td>1.0</td>\n",
              "    </tr>\n",
              "    <tr>\n",
              "      <th>1</th>\n",
              "      <td>IMPRESSION:   No acute cardiopulmonary abnorm...</td>\n",
              "      <td>NaN</td>\n",
              "      <td>NaN</td>\n",
              "      <td>NaN</td>\n",
              "      <td>NaN</td>\n",
              "      <td>NaN</td>\n",
              "      <td>NaN</td>\n",
              "      <td>NaN</td>\n",
              "      <td>NaN</td>\n",
              "      <td>NaN</td>\n",
              "      <td>NaN</td>\n",
              "      <td>NaN</td>\n",
              "      <td>NaN</td>\n",
              "      <td>NaN</td>\n",
              "      <td>1.0</td>\n",
              "    </tr>\n",
              "    <tr>\n",
              "      <th>2</th>\n",
              "      <td>IMPRESSION:   No acute intrathoracic process.</td>\n",
              "      <td>NaN</td>\n",
              "      <td>NaN</td>\n",
              "      <td>NaN</td>\n",
              "      <td>NaN</td>\n",
              "      <td>NaN</td>\n",
              "      <td>NaN</td>\n",
              "      <td>NaN</td>\n",
              "      <td>NaN</td>\n",
              "      <td>NaN</td>\n",
              "      <td>NaN</td>\n",
              "      <td>NaN</td>\n",
              "      <td>NaN</td>\n",
              "      <td>NaN</td>\n",
              "      <td>1.0</td>\n",
              "    </tr>\n",
              "    <tr>\n",
              "      <th>3</th>\n",
              "      <td>IMPRESSION:   No acute cardiopulmonary process.</td>\n",
              "      <td>NaN</td>\n",
              "      <td>NaN</td>\n",
              "      <td>NaN</td>\n",
              "      <td>NaN</td>\n",
              "      <td>NaN</td>\n",
              "      <td>NaN</td>\n",
              "      <td>NaN</td>\n",
              "      <td>NaN</td>\n",
              "      <td>NaN</td>\n",
              "      <td>NaN</td>\n",
              "      <td>NaN</td>\n",
              "      <td>NaN</td>\n",
              "      <td>NaN</td>\n",
              "      <td>1.0</td>\n",
              "    </tr>\n",
              "    <tr>\n",
              "      <th>4</th>\n",
              "      <td>IMPRESSION:   Focal consolidation at the left...</td>\n",
              "      <td>NaN</td>\n",
              "      <td>NaN</td>\n",
              "      <td>NaN</td>\n",
              "      <td>NaN</td>\n",
              "      <td>NaN</td>\n",
              "      <td>1.0</td>\n",
              "      <td>-1.0</td>\n",
              "      <td>NaN</td>\n",
              "      <td>NaN</td>\n",
              "      <td>NaN</td>\n",
              "      <td>NaN</td>\n",
              "      <td>NaN</td>\n",
              "      <td>NaN</td>\n",
              "      <td>NaN</td>\n",
              "    </tr>\n",
              "  </tbody>\n",
              "</table>\n",
              "</div>"
            ],
            "text/plain": [
              "                                   Report Impression  ...  No Finding\n",
              "0    IMPRESSION:   No acute cardiopulmonary process.  ...         1.0\n",
              "1   IMPRESSION:   No acute cardiopulmonary abnorm...  ...         1.0\n",
              "2      IMPRESSION:   No acute intrathoracic process.  ...         1.0\n",
              "3    IMPRESSION:   No acute cardiopulmonary process.  ...         1.0\n",
              "4   IMPRESSION:   Focal consolidation at the left...  ...         NaN\n",
              "\n",
              "[5 rows x 15 columns]"
            ]
          },
          "metadata": {},
          "execution_count": 4
        }
      ]
    },
    {
      "cell_type": "code",
      "metadata": {
        "colab": {
          "base_uri": "https://localhost:8080/",
          "height": 204
        },
        "id": "c-e33NiLRV3q",
        "outputId": "e7300465-8e4f-4d8b-9c8f-a999beb6a36e"
      },
      "source": [
        "#create one column of all medical tags in one string\n",
        "chexbert_df = chexbert_df.replace([1.0,0.0,-1.0],['positive','negative','uncertain'])\n",
        "\n",
        "for (columnName, columnData) in chexbert_df.iteritems():\n",
        "  chexbert_df[columnName] = np.where((chexbert_df[columnName] == 'positive'),columnName+' positive',chexbert_df[columnName])\n",
        "  chexbert_df[columnName] = np.where((chexbert_df[columnName] == 'negative'),columnName+' negative',chexbert_df[columnName])\n",
        "  chexbert_df[columnName] = np.where((chexbert_df[columnName] == 'uncertain'),columnName+' uncertain',chexbert_df[columnName])\n",
        "\n",
        "chexbert_df = chexbert_df.replace(['nan'],[np.nan])\n",
        "\n",
        "chexbert_df['chexbert medical tags'] = chexbert_df[chexbert_df.columns[1:15]].apply(\n",
        "    lambda x: ' ,'.join(x.dropna().astype(str)),\n",
        "    axis=1\n",
        ")\n",
        "\n",
        "chexbert_df.drop(chexbert_df.columns[0:15], axis = 1, inplace = True)\n",
        "\n",
        "chexbert_df.head()"
      ],
      "execution_count": 5,
      "outputs": [
        {
          "output_type": "execute_result",
          "data": {
            "text/html": [
              "<div>\n",
              "<style scoped>\n",
              "    .dataframe tbody tr th:only-of-type {\n",
              "        vertical-align: middle;\n",
              "    }\n",
              "\n",
              "    .dataframe tbody tr th {\n",
              "        vertical-align: top;\n",
              "    }\n",
              "\n",
              "    .dataframe thead th {\n",
              "        text-align: right;\n",
              "    }\n",
              "</style>\n",
              "<table border=\"1\" class=\"dataframe\">\n",
              "  <thead>\n",
              "    <tr style=\"text-align: right;\">\n",
              "      <th></th>\n",
              "      <th>chexbert medical tags</th>\n",
              "    </tr>\n",
              "  </thead>\n",
              "  <tbody>\n",
              "    <tr>\n",
              "      <th>0</th>\n",
              "      <td>No Finding positive</td>\n",
              "    </tr>\n",
              "    <tr>\n",
              "      <th>1</th>\n",
              "      <td>No Finding positive</td>\n",
              "    </tr>\n",
              "    <tr>\n",
              "      <th>2</th>\n",
              "      <td>No Finding positive</td>\n",
              "    </tr>\n",
              "    <tr>\n",
              "      <th>3</th>\n",
              "      <td>No Finding positive</td>\n",
              "    </tr>\n",
              "    <tr>\n",
              "      <th>4</th>\n",
              "      <td>Consolidation positive ,Pneumonia uncertain</td>\n",
              "    </tr>\n",
              "  </tbody>\n",
              "</table>\n",
              "</div>"
            ],
            "text/plain": [
              "                         chexbert medical tags\n",
              "0                          No Finding positive\n",
              "1                          No Finding positive\n",
              "2                          No Finding positive\n",
              "3                          No Finding positive\n",
              "4  Consolidation positive ,Pneumonia uncertain"
            ]
          },
          "metadata": {},
          "execution_count": 5
        }
      ]
    },
    {
      "cell_type": "code",
      "metadata": {
        "colab": {
          "base_uri": "https://localhost:8080/",
          "height": 288
        },
        "id": "mq3ts-vTWIhu",
        "outputId": "f48c82e2-fce1-492e-9c55-dfabaeb9c0e9"
      },
      "source": [
        "#add the created column to the main csv file\n",
        "tags_reports_df = pd.read_csv(\"/content/drive/My Drive/Final project - Zebra/Final data/chexpert medical tags and reports.csv\")\n",
        "tags_reports_df['chexbert medical tags'] = chexbert_df['chexbert medical tags']\n",
        "#tags_reports_df.rename(columns={\"medical tags\": \"chexpert medical tags\"}, inplace = True)\n",
        "\n",
        "from google.colab import drive\n",
        "from google.colab import files\n",
        "tags_reports_df.to_csv('chexbert&pert reports.csv', index = False)\n",
        "files.download(\"chexbert&pert reports.csv\")\n",
        "\n",
        "tags_reports_df.head()"
      ],
      "execution_count": 8,
      "outputs": [
        {
          "output_type": "display_data",
          "data": {
            "application/javascript": [
              "\n",
              "    async function download(id, filename, size) {\n",
              "      if (!google.colab.kernel.accessAllowed) {\n",
              "        return;\n",
              "      }\n",
              "      const div = document.createElement('div');\n",
              "      const label = document.createElement('label');\n",
              "      label.textContent = `Downloading \"${filename}\": `;\n",
              "      div.appendChild(label);\n",
              "      const progress = document.createElement('progress');\n",
              "      progress.max = size;\n",
              "      div.appendChild(progress);\n",
              "      document.body.appendChild(div);\n",
              "\n",
              "      const buffers = [];\n",
              "      let downloaded = 0;\n",
              "\n",
              "      const channel = await google.colab.kernel.comms.open(id);\n",
              "      // Send a message to notify the kernel that we're ready.\n",
              "      channel.send({})\n",
              "\n",
              "      for await (const message of channel.messages) {\n",
              "        // Send a message to notify the kernel that we're ready.\n",
              "        channel.send({})\n",
              "        if (message.buffers) {\n",
              "          for (const buffer of message.buffers) {\n",
              "            buffers.push(buffer);\n",
              "            downloaded += buffer.byteLength;\n",
              "            progress.value = downloaded;\n",
              "          }\n",
              "        }\n",
              "      }\n",
              "      const blob = new Blob(buffers, {type: 'application/binary'});\n",
              "      const a = document.createElement('a');\n",
              "      a.href = window.URL.createObjectURL(blob);\n",
              "      a.download = filename;\n",
              "      div.appendChild(a);\n",
              "      a.click();\n",
              "      div.remove();\n",
              "    }\n",
              "  "
            ],
            "text/plain": [
              "<IPython.core.display.Javascript object>"
            ]
          },
          "metadata": {}
        },
        {
          "output_type": "display_data",
          "data": {
            "application/javascript": [
              "download(\"download_959e45af-bfbb-4f65-971c-6c2d85567a81\", \"chexbert&pert reports.csv\", 186586600)"
            ],
            "text/plain": [
              "<IPython.core.display.Javascript object>"
            ]
          },
          "metadata": {}
        },
        {
          "output_type": "execute_result",
          "data": {
            "text/html": [
              "<div>\n",
              "<style scoped>\n",
              "    .dataframe tbody tr th:only-of-type {\n",
              "        vertical-align: middle;\n",
              "    }\n",
              "\n",
              "    .dataframe tbody tr th {\n",
              "        vertical-align: top;\n",
              "    }\n",
              "\n",
              "    .dataframe thead th {\n",
              "        text-align: right;\n",
              "    }\n",
              "</style>\n",
              "<table border=\"1\" class=\"dataframe\">\n",
              "  <thead>\n",
              "    <tr style=\"text-align: right;\">\n",
              "      <th></th>\n",
              "      <th>path</th>\n",
              "      <th>medical tags</th>\n",
              "      <th>report_impression</th>\n",
              "      <th>report_findings</th>\n",
              "      <th>start_report</th>\n",
              "      <th>chexbert medical tags</th>\n",
              "    </tr>\n",
              "  </thead>\n",
              "  <tbody>\n",
              "    <tr>\n",
              "      <th>0</th>\n",
              "      <td>files/p10/p10000032/s50414267.txt</td>\n",
              "      <td>No Finding positive</td>\n",
              "      <td>IMPRESSION:   No acute cardiopulmonary process.</td>\n",
              "      <td>FINDINGS:   There is no focal consolidation, ...</td>\n",
              "      <td>FINAL REPORT ...</td>\n",
              "      <td>No Finding positive</td>\n",
              "    </tr>\n",
              "    <tr>\n",
              "      <th>1</th>\n",
              "      <td>files/p10/p10000032/s53189527.txt</td>\n",
              "      <td>No Finding positive</td>\n",
              "      <td>IMPRESSION:   No acute cardiopulmonary abnorm...</td>\n",
              "      <td>FINDINGS:   The cardiac, mediastinal and hila...</td>\n",
              "      <td>FINAL REPORT ...</td>\n",
              "      <td>No Finding positive</td>\n",
              "    </tr>\n",
              "    <tr>\n",
              "      <th>2</th>\n",
              "      <td>files/p10/p10000032/s53911762.txt</td>\n",
              "      <td>No Finding positive</td>\n",
              "      <td>IMPRESSION:   No acute intrathoracic process.</td>\n",
              "      <td>FINDINGS:   Single frontal view of the chest ...</td>\n",
              "      <td>FINAL REPORT ...</td>\n",
              "      <td>No Finding positive</td>\n",
              "    </tr>\n",
              "    <tr>\n",
              "      <th>3</th>\n",
              "      <td>files/p10/p10000032/s56699142.txt</td>\n",
              "      <td>No Finding positive</td>\n",
              "      <td>IMPRESSION:   No acute cardiopulmonary process.</td>\n",
              "      <td>FINDINGS:   The lungs are clear of focal cons...</td>\n",
              "      <td>FINAL REPORT ...</td>\n",
              "      <td>No Finding positive</td>\n",
              "    </tr>\n",
              "    <tr>\n",
              "      <th>4</th>\n",
              "      <td>files/p10/p10000764/s57375967.txt</td>\n",
              "      <td>Consolidation positive ,Pneumonia uncertain</td>\n",
              "      <td>IMPRESSION:   Focal consolidation at the left...</td>\n",
              "      <td>FINDINGS:   PA and lateral views of the chest...</td>\n",
              "      <td>FINAL REPORT ...</td>\n",
              "      <td>Consolidation positive ,Pneumonia uncertain</td>\n",
              "    </tr>\n",
              "  </tbody>\n",
              "</table>\n",
              "</div>"
            ],
            "text/plain": [
              "                                path  ...                        chexbert medical tags\n",
              "0  files/p10/p10000032/s50414267.txt  ...                          No Finding positive\n",
              "1  files/p10/p10000032/s53189527.txt  ...                          No Finding positive\n",
              "2  files/p10/p10000032/s53911762.txt  ...                          No Finding positive\n",
              "3  files/p10/p10000032/s56699142.txt  ...                          No Finding positive\n",
              "4  files/p10/p10000764/s57375967.txt  ...  Consolidation positive ,Pneumonia uncertain\n",
              "\n",
              "[5 rows x 6 columns]"
            ]
          },
          "metadata": {},
          "execution_count": 8
        }
      ]
    }
  ]
}