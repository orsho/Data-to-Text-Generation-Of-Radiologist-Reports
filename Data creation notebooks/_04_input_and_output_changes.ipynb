{
  "nbformat": 4,
  "nbformat_minor": 0,
  "metadata": {
    "colab": {
      "name": "#04 input and output changes.ipynb",
      "provenance": [],
      "collapsed_sections": [],
      "toc_visible": true
    },
    "kernelspec": {
      "display_name": "Python 3",
      "language": "python",
      "name": "python3"
    },
    "language_info": {
      "codemirror_mode": {
        "name": "ipython",
        "version": 3
      },
      "file_extension": ".py",
      "mimetype": "text/x-python",
      "name": "python",
      "nbconvert_exporter": "python",
      "pygments_lexer": "ipython3",
      "version": "3.8.3"
    }
  },
  "cells": [
    {
      "cell_type": "markdown",
      "metadata": {
        "id": "APYelVcLVe7K"
      },
      "source": [
        "#Input and output changes for experiments"
      ]
    },
    {
      "cell_type": "code",
      "metadata": {
        "colab": {
          "base_uri": "https://localhost:8080/"
        },
        "id": "-rJVoUzMVfCz",
        "outputId": "90b859cf-0d92-4461-f85c-407d154800f9"
      },
      "source": [
        "!pip install transformers -q\n",
        "!pip install sentencepiece -q"
      ],
      "execution_count": 1,
      "outputs": [
        {
          "output_type": "stream",
          "name": "stdout",
          "text": [
            "\u001b[K     |████████████████████████████████| 3.1 MB 12.0 MB/s \n",
            "\u001b[K     |████████████████████████████████| 596 kB 39.9 MB/s \n",
            "\u001b[K     |████████████████████████████████| 895 kB 62.8 MB/s \n",
            "\u001b[K     |████████████████████████████████| 59 kB 5.0 MB/s \n",
            "\u001b[K     |████████████████████████████████| 3.3 MB 66.6 MB/s \n",
            "\u001b[K     |████████████████████████████████| 1.2 MB 14.2 MB/s \n",
            "\u001b[?25h"
          ]
        }
      ]
    },
    {
      "cell_type": "code",
      "metadata": {
        "id": "CMCzVL1_ofdV"
      },
      "source": [
        "import numpy as np\n",
        "import pandas as pd\n",
        "import matplotlib.pyplot as plt\n",
        "import seaborn as sns\n",
        "\n",
        "import re\n",
        "\n",
        "import sklearn\n"
      ],
      "execution_count": 2,
      "outputs": []
    },
    {
      "cell_type": "code",
      "metadata": {
        "colab": {
          "base_uri": "https://localhost:8080/"
        },
        "id": "q3-5OOoNGgAf",
        "outputId": "85fa811a-b1ff-4baa-9787-93d527d2c67e"
      },
      "source": [
        "from google.colab import drive\n",
        "drive.mount('/content/drive', force_remount=True)"
      ],
      "execution_count": 3,
      "outputs": [
        {
          "output_type": "stream",
          "name": "stdout",
          "text": [
            "Mounted at /content/drive\n"
          ]
        }
      ]
    },
    {
      "cell_type": "markdown",
      "metadata": {
        "id": "lw1Ny-irl2ut"
      },
      "source": [
        "## Add column of all the text before the findings and impression sections"
      ]
    },
    {
      "cell_type": "code",
      "metadata": {
        "id": "bHq6rCN0l-Rx",
        "colab": {
          "base_uri": "https://localhost:8080/",
          "height": 288
        },
        "outputId": "1e640152-874e-4bd8-fc08-a52b96bae396"
      },
      "source": [
        "#load the file contain chexbert and chexpert annotations\n",
        "tags_reports_df = pd.read_csv(\"/content/drive/My Drive/Final project - Zebra/Final data/chexbert&pert reports - train + test.csv\")\n",
        "tags_reports_df[\"start_report\"] = np.nan\n",
        "tags_reports_df.head()"
      ],
      "execution_count": 4,
      "outputs": [
        {
          "output_type": "execute_result",
          "data": {
            "text/html": [
              "<div>\n",
              "<style scoped>\n",
              "    .dataframe tbody tr th:only-of-type {\n",
              "        vertical-align: middle;\n",
              "    }\n",
              "\n",
              "    .dataframe tbody tr th {\n",
              "        vertical-align: top;\n",
              "    }\n",
              "\n",
              "    .dataframe thead th {\n",
              "        text-align: right;\n",
              "    }\n",
              "</style>\n",
              "<table border=\"1\" class=\"dataframe\">\n",
              "  <thead>\n",
              "    <tr style=\"text-align: right;\">\n",
              "      <th></th>\n",
              "      <th>path</th>\n",
              "      <th>chexpert medical tags</th>\n",
              "      <th>report_impression</th>\n",
              "      <th>report_findings</th>\n",
              "      <th>start_report</th>\n",
              "      <th>chexbert medical tags</th>\n",
              "    </tr>\n",
              "  </thead>\n",
              "  <tbody>\n",
              "    <tr>\n",
              "      <th>0</th>\n",
              "      <td>files/p10/p10000032/s50414267.txt</td>\n",
              "      <td>No Finding positive</td>\n",
              "      <td>IMPRESSION:   No acute cardiopulmonary process.</td>\n",
              "      <td>FINDINGS:   There is no focal consolidation, ...</td>\n",
              "      <td>NaN</td>\n",
              "      <td>No Finding positive</td>\n",
              "    </tr>\n",
              "    <tr>\n",
              "      <th>1</th>\n",
              "      <td>files/p10/p10000032/s53189527.txt</td>\n",
              "      <td>No Finding positive</td>\n",
              "      <td>IMPRESSION:   No acute cardiopulmonary abnorm...</td>\n",
              "      <td>FINDINGS:   The cardiac, mediastinal and hila...</td>\n",
              "      <td>NaN</td>\n",
              "      <td>No Finding positive</td>\n",
              "    </tr>\n",
              "    <tr>\n",
              "      <th>2</th>\n",
              "      <td>files/p10/p10000032/s53911762.txt</td>\n",
              "      <td>No Finding positive</td>\n",
              "      <td>IMPRESSION:   No acute intrathoracic process.</td>\n",
              "      <td>FINDINGS:   Single frontal view of the chest ...</td>\n",
              "      <td>NaN</td>\n",
              "      <td>No Finding positive</td>\n",
              "    </tr>\n",
              "    <tr>\n",
              "      <th>3</th>\n",
              "      <td>files/p10/p10000032/s56699142.txt</td>\n",
              "      <td>No Finding positive</td>\n",
              "      <td>IMPRESSION:   No acute cardiopulmonary process.</td>\n",
              "      <td>FINDINGS:   The lungs are clear of focal cons...</td>\n",
              "      <td>NaN</td>\n",
              "      <td>No Finding positive</td>\n",
              "    </tr>\n",
              "    <tr>\n",
              "      <th>4</th>\n",
              "      <td>files/p10/p10000764/s57375967.txt</td>\n",
              "      <td>Consolidation positive ,Pneumonia uncertain</td>\n",
              "      <td>IMPRESSION:   Focal consolidation at the left...</td>\n",
              "      <td>FINDINGS:   PA and lateral views of the chest...</td>\n",
              "      <td>NaN</td>\n",
              "      <td>Consolidation positive ,Pneumonia uncertain</td>\n",
              "    </tr>\n",
              "  </tbody>\n",
              "</table>\n",
              "</div>"
            ],
            "text/plain": [
              "                                path  ...                        chexbert medical tags\n",
              "0  files/p10/p10000032/s50414267.txt  ...                          No Finding positive\n",
              "1  files/p10/p10000032/s53189527.txt  ...                          No Finding positive\n",
              "2  files/p10/p10000032/s53911762.txt  ...                          No Finding positive\n",
              "3  files/p10/p10000032/s56699142.txt  ...                          No Finding positive\n",
              "4  files/p10/p10000764/s57375967.txt  ...  Consolidation positive ,Pneumonia uncertain\n",
              "\n",
              "[5 rows x 6 columns]"
            ]
          },
          "metadata": {},
          "execution_count": 4
        }
      ]
    },
    {
      "cell_type": "code",
      "metadata": {
        "id": "lxYIQQH5Z2z6"
      },
      "source": [
        "#findings section finder\n",
        "findings_found = \"FINDINGS\"\n",
        "impression_found = \"IMPRESSION\"\n",
        "report_str = \"\"\n",
        "flag = False\n",
        "\n",
        "#iterate through all reports\n",
        "for i in range (len(tags_reports_df)):\n",
        "    path_report = tags_reports_df.loc[i,'path']\n",
        "    print(path_report)\n",
        "                \n",
        "    report = open(\"/content/drive/My Drive/Final project - Zebra/Data/\"+path_report, \"r\")\n",
        "    \n",
        "    #iterate through all lines in report\n",
        "    for line in report:\n",
        "      if findings_found in line:\n",
        "        flag = True\n",
        "      if impression_found in line:\n",
        "        flag = True\n",
        "      if flag == False:\n",
        "        report_str += str(line)\n",
        "      #if findings/impression word found then stop and append all words before that word\n",
        "            \n",
        "    \n",
        "    #init all variables for the next report\n",
        "    tags_reports_df.loc[i, 'start_report'] = report_str\n",
        "    flag = False\n",
        "    report_str = \"\"\n",
        "\n",
        "#clean results   \n",
        "tags_reports_df['start_report'] = tags_reports_df['start_report'].str.replace(r'\\n', '')\n",
        "\n",
        "tags_reports_df.head(15)"
      ],
      "execution_count": null,
      "outputs": []
    },
    {
      "cell_type": "code",
      "metadata": {
        "colab": {
          "base_uri": "https://localhost:8080/",
          "height": 17
        },
        "id": "xLCwX2igQXeR",
        "outputId": "9a8e164e-a710-4a98-e1cc-851bf9c5234a"
      },
      "source": [
        "\n",
        "from google.colab import drive\n",
        "from google.colab import files\n",
        "tags_reports_df.to_csv('chexbert&pert reports + all section before.csv', index = False)\n",
        "files.download(\"chexbert&pert reports + all section before.csv\")"
      ],
      "execution_count": null,
      "outputs": [
        {
          "data": {
            "application/javascript": [
              "\n",
              "    async function download(id, filename, size) {\n",
              "      if (!google.colab.kernel.accessAllowed) {\n",
              "        return;\n",
              "      }\n",
              "      const div = document.createElement('div');\n",
              "      const label = document.createElement('label');\n",
              "      label.textContent = `Downloading \"${filename}\": `;\n",
              "      div.appendChild(label);\n",
              "      const progress = document.createElement('progress');\n",
              "      progress.max = size;\n",
              "      div.appendChild(progress);\n",
              "      document.body.appendChild(div);\n",
              "\n",
              "      const buffers = [];\n",
              "      let downloaded = 0;\n",
              "\n",
              "      const channel = await google.colab.kernel.comms.open(id);\n",
              "      // Send a message to notify the kernel that we're ready.\n",
              "      channel.send({})\n",
              "\n",
              "      for await (const message of channel.messages) {\n",
              "        // Send a message to notify the kernel that we're ready.\n",
              "        channel.send({})\n",
              "        if (message.buffers) {\n",
              "          for (const buffer of message.buffers) {\n",
              "            buffers.push(buffer);\n",
              "            downloaded += buffer.byteLength;\n",
              "            progress.value = downloaded;\n",
              "          }\n",
              "        }\n",
              "      }\n",
              "      const blob = new Blob(buffers, {type: 'application/binary'});\n",
              "      const a = document.createElement('a');\n",
              "      a.href = window.URL.createObjectURL(blob);\n",
              "      a.download = filename;\n",
              "      div.appendChild(a);\n",
              "      a.click();\n",
              "      div.remove();\n",
              "    }\n",
              "  "
            ],
            "text/plain": [
              "<IPython.core.display.Javascript object>"
            ]
          },
          "metadata": {},
          "output_type": "display_data"
        },
        {
          "data": {
            "application/javascript": [
              "download(\"download_1cf60503-6c00-4cbd-8b69-a64283e9d083\", \"start_report.csv\", 172242851)"
            ],
            "text/plain": [
              "<IPython.core.display.Javascript object>"
            ]
          },
          "metadata": {},
          "output_type": "display_data"
        }
      ]
    },
    {
      "cell_type": "markdown",
      "metadata": {
        "id": "7dtXQx2bAJyC"
      },
      "source": [
        "## delete parts/specific words from the reports that cause a lot of False positive like locations and history of the patients"
      ]
    },
    {
      "cell_type": "code",
      "metadata": {
        "id": "strgM91tAUZj"
      },
      "source": [
        "import re\n",
        "\n",
        "#load the train file \n",
        "chexbert_df = pd.read_csv(\"/content/drive/My Drive/Final project - Zebra/Final data/chexbert&pert reports - train.csv\")\n",
        "\n",
        "#delete from the given report unwanted parts  \n",
        "def patterns(fixed_sentence):\n",
        "  start = re.escape(\"As\")\n",
        "  end   = re.escape(\"___\")\n",
        "  pattern1 = '%s(.*?)%s' % (re.escape(start), re.escape(end))\n",
        "  fixed_sentence = re.sub(pattern1,'', fixed_sentence)\n",
        "\n",
        "  start = re.escape(\"as\")\n",
        "  end   = re.escape(\"___\")\n",
        "  pattern1 = '%s(.*?)%s' % (re.escape(start), re.escape(end))\n",
        "  fixed_sentence = re.sub(pattern1,'', fixed_sentence)\n",
        "\n",
        "  start = re.escape(\"Compared\")\n",
        "  end   = re.escape(\"___\")\n",
        "  pattern1 = '%s(.*?)%s' % (re.escape(start), re.escape(end))\n",
        "  fixed_sentence = re.sub(pattern1,'', fixed_sentence)\n",
        "\n",
        "  start = re.escape(\"compared\")\n",
        "  end   = re.escape(\"___\")\n",
        "  pattern1 = '%s(.*?)%s' % (re.escape(start), re.escape(end))\n",
        "  fixed_sentence = re.sub(pattern1,'', fixed_sentence)\n",
        "\n",
        "  start = re.escape(\"In\")\n",
        "  end   = re.escape(\"___\")\n",
        "  pattern1 = '%s(.*?)%s' % (re.escape(start), re.escape(end))\n",
        "  fixed_sentence = re.sub(pattern1,'', fixed_sentence)\n",
        "\n",
        "  start = re.escape(\"since\")\n",
        "  end   = re.escape(\"___\")\n",
        "  pattern1 = '%s(.*?)%s' % (re.escape(start), re.escape(end))\n",
        "  fixed_sentence = re.sub(pattern1,'', fixed_sentence)\n",
        "\n",
        "  start = re.escape(\"most\")\n",
        "  end   = re.escape(\"___\")\n",
        "  pattern1 = '%s(.*?)%s' % (re.escape(start), re.escape(end))\n",
        "  fixed_sentence = re.sub(pattern1,'', fixed_sentence)\n",
        "\n",
        "  start = re.escape(\"through\")\n",
        "  end   = re.escape(\"___\")\n",
        "  pattern1 = '%s(.*?)%s' % (re.escape(start), re.escape(end))\n",
        "  fixed_sentence = re.sub(pattern1,'', fixed_sentence)\n",
        "\n",
        "  start = re.escape(\"Comparison\")\n",
        "  end   = re.escape(\"___\")\n",
        "  pattern1 = '%s(.*?)%s' % (re.escape(start), re.escape(end))\n",
        "  fixed_sentence = re.sub(pattern1,'', fixed_sentence)\n",
        "\n",
        "  start = re.escape(\"NOTIFICATION:\")\n",
        "  end   = re.escape(\"Dr. ___\")\n",
        "  pattern1 = '%s(.*?)%s' % (re.escape(start), re.escape(end))\n",
        "  fixed_sentence = re.sub(pattern1,'', fixed_sentence)\n",
        "\n",
        "  start = re.escape(\"Dr.\")\n",
        "  end   = re.escape(\"___\")\n",
        "  pattern1 = '%s(.*?)%s' % (re.escape(start), re.escape(end))\n",
        "  fixed_sentence = re.sub(pattern1,'', fixed_sentence)\n",
        "\n",
        "\n",
        "  start = re.escape(\" on\")\n",
        "  end   = re.escape(\"___\")\n",
        "  pattern1 = '%s(.*?)%s' % (re.escape(start), re.escape(end))\n",
        "  fixed_sentence = re.sub(pattern1,'', fixed_sentence)\n",
        "\n",
        "  start = re.escape(\"from\")\n",
        "  end   = re.escape(\"___\")\n",
        "  pattern1 = '%s(.*?)%s' % (re.escape(start), re.escape(end))\n",
        "  fixed_sentence = re.sub(pattern1,'', fixed_sentence)\n",
        "\n",
        "  start = re.escape(\"findings\")\n",
        "  end   = re.escape(\"discovery\")\n",
        "  pattern1 = '%s(.*?)%s' % (re.escape(start), re.escape(end))\n",
        "  fixed_sentence = re.sub(pattern1,'', fixed_sentence)\n",
        "\n",
        "  start = re.escape(\"Findings\")\n",
        "  end   = re.escape(\"discovery\")\n",
        "  pattern1 = '%s(.*?)%s' % (re.escape(start), re.escape(end))\n",
        "  fixed_sentence = re.sub(pattern1,'', fixed_sentence)\n",
        "\n",
        "  return fixed_sentence\n",
        "\n",
        "\n",
        "def delete_parts(df, column_name):\n",
        "  #delete parts/specific words from the given column that cause a lot of False positive like locations and history of the patients\n",
        "\n",
        "  #Parameters:\n",
        "  #    df :the given dataframe\n",
        "  #    column_name :the given column\n",
        "\n",
        "  #Returns:\n",
        "  #    the column without the unwanted parts \n",
        "\n",
        "  fixed_study = \"\"\n",
        "  words_to_remove = ['left ', 'right ', 'Left ', 'Right ' 'upper ', 'upper', 'Upper ', 'lower ', 'Lower ', 'right-sided ','left-sided '] #locations\n",
        "\n",
        "  for study in df[column_name]:\n",
        "    study = str(study)\n",
        "    #print(study)\n",
        "    for sentence in study.split(\".\"):\n",
        "\n",
        "      fixed_sentence = re.sub(r'|'.join(map(re.escape, words_to_remove)),'',sentence) # remove all locations\n",
        "      if \"NOTIFICATION:\" in fixed_sentence:\n",
        "        fixed_sentence = \"\"\n",
        "      fixed_sentence = fixed_sentence+\".\" #add the deleted dots (removed before to split sentences)\n",
        "      fixed_sentence = patterns(fixed_sentence) #delete all sub-sentences contain '___' and other\n",
        "      fixed_sentence = re.sub(r' , ','',fixed_sentence) \n",
        "      fixed_sentence = re.sub(r'\\(.\\)','',fixed_sentence)\n",
        "      fixed_study += fixed_sentence\n",
        "      \n",
        "\n",
        "    fixed_study = fixed_study[:-1] #remove the last extra dot in the end of the sentence\n",
        "\n",
        "    df[column_name].iloc[count_study] = fixed_study\n",
        "    fixed_study = \"\"\n",
        "\n",
        "  return df\n",
        "\n",
        "chexbert_df = delete_parts(chexbert_df, \"report_impression\")\n",
        "chexbert_df = delete_parts(chexbert_df, \"report_findings\")\n",
        "chexbert_df = delete_parts(chexbert_df, \"start_report\")\n",
        "\n"
      ],
      "execution_count": null,
      "outputs": []
    },
    {
      "cell_type": "code",
      "metadata": {
        "colab": {
          "base_uri": "https://localhost:8080/",
          "height": 17
        },
        "id": "AfEfKOX02WI3",
        "outputId": "1a64b544-2730-48d9-ed5a-1b639e63ecef"
      },
      "source": [
        "from google.colab import drive\n",
        "from google.colab import files\n",
        "chexbert_df.to_csv('chexbert&pert reports - train - fixed labels.csv', index = False)\n",
        "files.download(\"chexbert&pert reports - train - fixed labels.csv\")\n"
      ],
      "execution_count": null,
      "outputs": [
        {
          "data": {
            "application/javascript": [
              "\n",
              "    async function download(id, filename, size) {\n",
              "      if (!google.colab.kernel.accessAllowed) {\n",
              "        return;\n",
              "      }\n",
              "      const div = document.createElement('div');\n",
              "      const label = document.createElement('label');\n",
              "      label.textContent = `Downloading \"${filename}\": `;\n",
              "      div.appendChild(label);\n",
              "      const progress = document.createElement('progress');\n",
              "      progress.max = size;\n",
              "      div.appendChild(progress);\n",
              "      document.body.appendChild(div);\n",
              "\n",
              "      const buffers = [];\n",
              "      let downloaded = 0;\n",
              "\n",
              "      const channel = await google.colab.kernel.comms.open(id);\n",
              "      // Send a message to notify the kernel that we're ready.\n",
              "      channel.send({})\n",
              "\n",
              "      for await (const message of channel.messages) {\n",
              "        // Send a message to notify the kernel that we're ready.\n",
              "        channel.send({})\n",
              "        if (message.buffers) {\n",
              "          for (const buffer of message.buffers) {\n",
              "            buffers.push(buffer);\n",
              "            downloaded += buffer.byteLength;\n",
              "            progress.value = downloaded;\n",
              "          }\n",
              "        }\n",
              "      }\n",
              "      const blob = new Blob(buffers, {type: 'application/binary'});\n",
              "      const a = document.createElement('a');\n",
              "      a.href = window.URL.createObjectURL(blob);\n",
              "      a.download = filename;\n",
              "      div.appendChild(a);\n",
              "      a.click();\n",
              "      div.remove();\n",
              "    }\n",
              "  "
            ],
            "text/plain": [
              "<IPython.core.display.Javascript object>"
            ]
          },
          "metadata": {},
          "output_type": "display_data"
        },
        {
          "data": {
            "application/javascript": [
              "download(\"download_09e523ff-2759-424f-8a1d-6cbda9badde9\", \"chexbert tags and reports fixed input remove 30.csv\", 178596973)"
            ],
            "text/plain": [
              "<IPython.core.display.Javascript object>"
            ]
          },
          "metadata": {},
          "output_type": "display_data"
        }
      ]
    }
  ]
}