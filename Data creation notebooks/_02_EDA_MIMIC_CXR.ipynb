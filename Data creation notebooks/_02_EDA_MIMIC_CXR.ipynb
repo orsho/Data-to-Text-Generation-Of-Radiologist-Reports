{
  "nbformat": 4,
  "nbformat_minor": 0,
  "metadata": {
    "colab": {
      "name": "#02 EDA - MIMIC-CXR",
      "provenance": [],
      "collapsed_sections": [],
      "toc_visible": true
    },
    "kernelspec": {
      "display_name": "Python 3",
      "language": "python",
      "name": "python3"
    },
    "language_info": {
      "codemirror_mode": {
        "name": "ipython",
        "version": 3
      },
      "file_extension": ".py",
      "mimetype": "text/x-python",
      "name": "python",
      "nbconvert_exporter": "python",
      "pygments_lexer": "ipython3",
      "version": "3.8.3"
    }
  },
  "cells": [
    {
      "cell_type": "markdown",
      "metadata": {
        "id": "O0HPzDZ0GlN8"
      },
      "source": [
        "#EDA - MIMIC-CXR dataset"
      ]
    },
    {
      "cell_type": "code",
      "metadata": {
        "colab": {
          "base_uri": "https://localhost:8080/"
        },
        "id": "C05eAXsgGlU-",
        "outputId": "8d82b8c4-e6b8-418f-98cc-1baf14f8e14c"
      },
      "source": [
        "!pip install transformers -q\n",
        "!pip install sentencepiece -q"
      ],
      "execution_count": 1,
      "outputs": [
        {
          "output_type": "stream",
          "name": "stdout",
          "text": [
            "\u001b[K     |████████████████████████████████| 3.1 MB 4.2 MB/s \n",
            "\u001b[K     |████████████████████████████████| 3.3 MB 44.0 MB/s \n",
            "\u001b[K     |████████████████████████████████| 59 kB 5.8 MB/s \n",
            "\u001b[K     |████████████████████████████████| 895 kB 69.6 MB/s \n",
            "\u001b[K     |████████████████████████████████| 596 kB 64.2 MB/s \n",
            "\u001b[K     |████████████████████████████████| 1.2 MB 4.2 MB/s \n",
            "\u001b[?25h"
          ]
        }
      ]
    },
    {
      "cell_type": "code",
      "metadata": {
        "id": "CMCzVL1_ofdV"
      },
      "source": [
        "import numpy as np\n",
        "import pandas as pd\n",
        "import matplotlib.pyplot as plt\n",
        "import seaborn as sns\n",
        "\n",
        "import re\n",
        "import sklearn\n"
      ],
      "execution_count": 2,
      "outputs": []
    },
    {
      "cell_type": "code",
      "metadata": {
        "colab": {
          "base_uri": "https://localhost:8080/"
        },
        "id": "q3-5OOoNGgAf",
        "outputId": "dfcd11d6-c402-4df1-9a42-3c1ae58d9f54"
      },
      "source": [
        "from google.colab import drive\n",
        "drive.mount('/content/drive', force_remount=True)"
      ],
      "execution_count": 3,
      "outputs": [
        {
          "output_type": "stream",
          "name": "stdout",
          "text": [
            "Mounted at /content/drive\n"
          ]
        }
      ]
    },
    {
      "cell_type": "code",
      "metadata": {
        "colab": {
          "base_uri": "https://localhost:8080/",
          "height": 288
        },
        "id": "NzESTW0IGgIK",
        "outputId": "63b86b48-67cb-4b55-874d-ccc1f7220a63"
      },
      "source": [
        "chexpert_df = pd.read_csv(\"/content/drive/My Drive/Final project - Zebra/Data/medical tags and reports.csv\")\n",
        "chexpert_df.head()"
      ],
      "execution_count": 5,
      "outputs": [
        {
          "output_type": "execute_result",
          "data": {
            "text/html": [
              "<div>\n",
              "<style scoped>\n",
              "    .dataframe tbody tr th:only-of-type {\n",
              "        vertical-align: middle;\n",
              "    }\n",
              "\n",
              "    .dataframe tbody tr th {\n",
              "        vertical-align: top;\n",
              "    }\n",
              "\n",
              "    .dataframe thead th {\n",
              "        text-align: right;\n",
              "    }\n",
              "</style>\n",
              "<table border=\"1\" class=\"dataframe\">\n",
              "  <thead>\n",
              "    <tr style=\"text-align: right;\">\n",
              "      <th></th>\n",
              "      <th>path</th>\n",
              "      <th>medical tags</th>\n",
              "      <th>report_impression</th>\n",
              "      <th>report_findings</th>\n",
              "      <th>start_report</th>\n",
              "    </tr>\n",
              "  </thead>\n",
              "  <tbody>\n",
              "    <tr>\n",
              "      <th>0</th>\n",
              "      <td>files/p10/p10000032/s50414267.txt</td>\n",
              "      <td>No Finding positive</td>\n",
              "      <td>IMPRESSION:   No acute cardiopulmonary process.</td>\n",
              "      <td>FINDINGS:   There is no focal consolidation, ...</td>\n",
              "      <td>FINAL REPORT ...</td>\n",
              "    </tr>\n",
              "    <tr>\n",
              "      <th>1</th>\n",
              "      <td>files/p10/p10000032/s53189527.txt</td>\n",
              "      <td>No Finding positive</td>\n",
              "      <td>IMPRESSION:   No acute cardiopulmonary abnorm...</td>\n",
              "      <td>FINDINGS:   The cardiac, mediastinal and hila...</td>\n",
              "      <td>FINAL REPORT ...</td>\n",
              "    </tr>\n",
              "    <tr>\n",
              "      <th>2</th>\n",
              "      <td>files/p10/p10000032/s53911762.txt</td>\n",
              "      <td>No Finding positive</td>\n",
              "      <td>IMPRESSION:   No acute intrathoracic process.</td>\n",
              "      <td>FINDINGS:   Single frontal view of the chest ...</td>\n",
              "      <td>FINAL REPORT ...</td>\n",
              "    </tr>\n",
              "    <tr>\n",
              "      <th>3</th>\n",
              "      <td>files/p10/p10000032/s56699142.txt</td>\n",
              "      <td>No Finding positive</td>\n",
              "      <td>IMPRESSION:   No acute cardiopulmonary process.</td>\n",
              "      <td>FINDINGS:   The lungs are clear of focal cons...</td>\n",
              "      <td>FINAL REPORT ...</td>\n",
              "    </tr>\n",
              "    <tr>\n",
              "      <th>4</th>\n",
              "      <td>files/p10/p10000764/s57375967.txt</td>\n",
              "      <td>Consolidation positive ,Pneumonia uncertain</td>\n",
              "      <td>IMPRESSION:   Focal consolidation at the left...</td>\n",
              "      <td>FINDINGS:   PA and lateral views of the chest...</td>\n",
              "      <td>FINAL REPORT ...</td>\n",
              "    </tr>\n",
              "  </tbody>\n",
              "</table>\n",
              "</div>"
            ],
            "text/plain": [
              "                                path  ...                                       start_report\n",
              "0  files/p10/p10000032/s50414267.txt  ...                                   FINAL REPORT ...\n",
              "1  files/p10/p10000032/s53189527.txt  ...                                   FINAL REPORT ...\n",
              "2  files/p10/p10000032/s53911762.txt  ...                                   FINAL REPORT ...\n",
              "3  files/p10/p10000032/s56699142.txt  ...                                   FINAL REPORT ...\n",
              "4  files/p10/p10000764/s57375967.txt  ...                                   FINAL REPORT ...\n",
              "\n",
              "[5 rows x 5 columns]"
            ]
          },
          "metadata": {},
          "execution_count": 5
        }
      ]
    },
    {
      "cell_type": "code",
      "metadata": {
        "colab": {
          "base_uri": "https://localhost:8080/"
        },
        "id": "9wilCWX8Jfsq",
        "outputId": "7d92e9a4-b867-4f61-f286-fb8e54b01efe"
      },
      "source": [
        "def frequent_words(n, df, column):\n",
        "    #extract the top n words in a df column\n",
        "\n",
        "    #Parameters:\n",
        "    #    n :number of words to return\n",
        "    #    df: the given dataframe\n",
        "    #    column: the given column in the dataframe\n",
        "\n",
        "    #Returns:\n",
        "    #    the top n most frequent words in the given column\n",
        "    \n",
        "    #count the words in the given column\n",
        "    count_freq ={}\n",
        "    for index, report in df.iterrows():\n",
        "        impression_str = str(report[column]) \n",
        "        for word in re.findall(r'\\w+', impression_str):\n",
        "            if word not in count_freq.keys():\n",
        "                count_freq.update({word:1}) \n",
        "            else:\n",
        "                count_freq[word]+=1\n",
        "     \n",
        "    #sort from most frequent to the less\n",
        "    count_freq = dict(sorted(count_freq.items(), key=lambda item: item[1], reverse = True))   \n",
        "    \n",
        "    #extract only the first n words\n",
        "    frequent_words = []\n",
        "    for index, key in enumerate(count_freq):\n",
        "        if index<n:\n",
        "            frequent_words.append(key)\n",
        "        else:\n",
        "            break\n",
        "            \n",
        "    return frequent_words\n",
        "        \n",
        "def word_count(df, column):\n",
        "    #count words for every sample in a given column\n",
        "\n",
        "    #Parameters:\n",
        "    #    df: the given dataframe\n",
        "    #    column: the given column in the dataframe\n",
        "\n",
        "    #Returns:\n",
        "    #    1-D vector of word count for every sample\n",
        "\n",
        "    len_vector = []\n",
        "    for text in df[column]:\n",
        "        text = str(text)\n",
        "        if len(text.split()) > 0:\n",
        "          len_vector.append(len(text.split()))\n",
        "\n",
        "    return len_vector\n",
        "\n",
        "studies_arr = np.zeros((8,), dtype=int)\n",
        "count_studies_per_patient = 1\n",
        "\n",
        "#iterate through all reports\n",
        "for i in range (len(chexpert_df)):\n",
        "    path_report = chexpert_df.loc[i,'path']\n",
        "    #print(path_report)\n",
        "    \n",
        "    #Amount of re-examinations of all patients\n",
        "\n",
        "    try:\n",
        "      patient = re.search('10/p(.*)/s', path_report)\n",
        "      #print(patient.group(1))\n",
        "      patient = patient.group(1)\n",
        "      if i == 0:\n",
        "          previous_patient = patient\n",
        "      else:\n",
        "          if patient == previous_patient:\n",
        "              count_studies_per_patient += 1\n",
        "              previous_patient = patient\n",
        "          else:\n",
        "              if count_studies_per_patient > 8: #stop counting above 8 re-examinations\n",
        "                  count_studies_per_patient = 8\n",
        "              studies_arr[count_studies_per_patient-1] += 1\n",
        "              count_studies_per_patient = 1\n",
        "              previous_patient = patient \n",
        "    except:\n",
        "        pass\n",
        "              \n",
        "\n",
        "#frequent words\n",
        "frequent_impression_words = frequent_words(50, chexpert_df, 'report_impression')\n",
        "frequent_findings_words = frequent_words(50, chexpert_df, 'report_findings')\n",
        "print(\"the most frequent words in impression section are {}\".format(frequent_impression_words))\n",
        "print(\"the most frequent words in findings section are {}\".format(frequent_findings_words))\n",
        "\n",
        "#empty sections\n",
        "count_empty_impression = (chexpert_df['report_impression'].values == None).sum() \n",
        "count_empty_findings = (chexpert_df['report_findings'].values == None).sum() \n",
        "print(\"There is {}% missing impression section\".format(count_empty_impression/len(chexpert_df)*100))\n",
        "print(\"There is {}% missing findings section\".format(count_empty_findings/len(chexpert_df)*100))\n",
        "\n",
        "#Amount of re-examinations of patients\n",
        "print(\"Amount of re-examinations of patients is {}\".format(studies_arr))\n",
        "\n",
        "#word count\n",
        "impression_word_count = word_count(chexpert_df, 'report_impression')\n",
        "findings_word_count = word_count(chexpert_df, 'report_findings')\n"
      ],
      "execution_count": 12,
      "outputs": [
        {
          "output_type": "stream",
          "name": "stdout",
          "text": [
            "the most frequent words in impression section are ['the', 'IMPRESSION', 'of', 'is', 'No', 'and', 'in', '___', 'to', 'right', 'pleural', 'with', 'left', 'acute', 'pulmonary', 'are', 'lung', 'effusion', 'atelectasis', 'nan', 'process', 'edema', 'pneumonia', 'cardiopulmonary', 'pneumothorax', 'or', 'at', 'tube', 'a', 'chest', 'no', 'on', 'be', 'The', 'evidence', 'lower', 'There', 'has', 'effusions', 'lobe', 'unchanged', 'for', '1', 'size', '2', 'there', 'small', 'compared', 'study', 'cardiomegaly']\n",
            "the most frequent words in findings section are ['is', 'the', 'are', 'of', 'and', 'The', 'FINDINGS', 'There', 'pleural', 'in', 'right', 'effusion', 'pneumothorax', 'No', 'or', 'no', 'normal', 'left', 'with', 'nan', 'to', 'seen', 'lung', 'chest', 'pulmonary', 'consolidation', 'silhouette', 'clear', 'a', 'focal', 'unchanged', 'contours', 'size', 'lungs', 'atelectasis', 'mediastinal', 'lateral', 'edema', 'hilar', 'tube', '___', 'at', 'on', 'prior', 'cardiac', 'cardiomediastinal', 'lower', 'has', 'noted', 'stable']\n",
            "There is 0.0% missing impression section\n",
            "There is 0.0% missing findings section\n",
            "Amount of re-examinations of patients is [3187 1097  548  347  238  159  118  701]\n"
          ]
        }
      ]
    },
    {
      "cell_type": "markdown",
      "metadata": {
        "id": "DUc6l3volovv"
      },
      "source": [
        "## EDA plots"
      ]
    },
    {
      "cell_type": "markdown",
      "metadata": {
        "id": "Z2xGULf4mZtg"
      },
      "source": [
        "### words count of impression and findings"
      ]
    },
    {
      "cell_type": "code",
      "metadata": {
        "id": "HT-aU4Wboqy6",
        "colab": {
          "base_uri": "https://localhost:8080/",
          "height": 420
        },
        "outputId": "405d6400-6aab-4067-8639-3f485073a441"
      },
      "source": [
        "#plot words count \n",
        "fig = plt.figure(figsize = (15,10))\n",
        "\n",
        "plt.subplot(2,2,1)\n",
        "plt.title('word count for impression reports')\n",
        "plt.xlim([0, 150])\n",
        "sns.distplot(impression_word_count)\n",
        "\n",
        "plt.subplot(2,2,2)\n",
        "plt.title('word count for findings reports')\n",
        "plt.xlim([0, 150])\n",
        "sns.distplot(findings_word_count)"
      ],
      "execution_count": 13,
      "outputs": [
        {
          "output_type": "stream",
          "name": "stderr",
          "text": [
            "/usr/local/lib/python3.7/dist-packages/seaborn/distributions.py:2619: FutureWarning: `distplot` is a deprecated function and will be removed in a future version. Please adapt your code to use either `displot` (a figure-level function with similar flexibility) or `histplot` (an axes-level function for histograms).\n",
            "  warnings.warn(msg, FutureWarning)\n",
            "/usr/local/lib/python3.7/dist-packages/seaborn/distributions.py:2619: FutureWarning: `distplot` is a deprecated function and will be removed in a future version. Please adapt your code to use either `displot` (a figure-level function with similar flexibility) or `histplot` (an axes-level function for histograms).\n",
            "  warnings.warn(msg, FutureWarning)\n"
          ]
        },
        {
          "output_type": "execute_result",
          "data": {
            "text/plain": [
              "<matplotlib.axes._subplots.AxesSubplot at 0x7f09ce8dbfd0>"
            ]
          },
          "metadata": {},
          "execution_count": 13
        },
        {
          "output_type": "display_data",
          "data": {
            "image/png": "[encoded data removed]",
            "text/plain": [
              "<Figure size 1080x720 with 2 Axes>"
            ]
          },
          "metadata": {
            "needs_background": "light"
          }
        }
      ]
    },
    {
      "cell_type": "markdown",
      "metadata": {
        "id": "IxoXce3rmf_L"
      },
      "source": [
        "### Distribution of re-examinations of patients "
      ]
    },
    {
      "cell_type": "code",
      "metadata": {
        "colab": {
          "base_uri": "https://localhost:8080/",
          "height": 404
        },
        "id": "jV2h2jHHoqy9",
        "outputId": "721b368e-803d-4eae-b12d-47dd65b7d729"
      },
      "source": [
        "#Amount of re-examinations of patients\n",
        "x = ['1', '2', '3', '4', '5', '6', '7', '8+']\n",
        "\n",
        "fig = plt.figure(figsize = (8,6))\n",
        "\n",
        "ax = sns.barplot(x=x, y=studies_arr)\n",
        "ax.set(xlabel ='amount of re-examinations', ylabel ='count patients')\n",
        "plt.title('Amount of re-examinations of patients')\n",
        "plt.show()"
      ],
      "execution_count": null,
      "outputs": [
        {
          "data": {
            "image/png": "[encoded data removed]",
            "text/plain": [
              "<Figure size 576x432 with 1 Axes>"
            ]
          },
          "metadata": {},
          "output_type": "display_data"
        }
      ]
    },
    {
      "cell_type": "markdown",
      "metadata": {
        "id": "AwpwaVHkmqtg"
      },
      "source": [
        "### pie chart of re-examinations of patients"
      ]
    },
    {
      "cell_type": "code",
      "metadata": {
        "colab": {
          "base_uri": "https://localhost:8080/",
          "height": 552
        },
        "id": "zG-WjFtPoqy_",
        "outputId": "bd539f55-cb44-4720-e8fb-bfa26c44525d"
      },
      "source": [
        "\n",
        "labels = ['only 1 examination', '2 examinations', '3 or more examinations']\n",
        "\n",
        "#indices = [2:] \n",
        "#three_more = studies_arr[indices].sum()\n",
        "short_studies_arr = [studies_arr[0], studies_arr[1], studies_arr[2:].sum()]\n",
        "\n",
        "fig = plt.figure(figsize = (15,9))\n",
        "plt.pie(short_studies_arr, labels = labels, autopct = '%1.1f%%')\n",
        "plt.title(\"Patients history\")"
      ],
      "execution_count": null,
      "outputs": [
        {
          "data": {
            "text/plain": [
              "Text(0.5, 1.0, 'Patients history')"
            ]
          },
          "execution_count": 22,
          "metadata": {},
          "output_type": "execute_result"
        },
        {
          "data": {
            "image/png": "[encoded data removed]",
            "text/plain": [
              "<Figure size 1080x648 with 1 Axes>"
            ]
          },
          "metadata": {},
          "output_type": "display_data"
        }
      ]
    }
  ]
}