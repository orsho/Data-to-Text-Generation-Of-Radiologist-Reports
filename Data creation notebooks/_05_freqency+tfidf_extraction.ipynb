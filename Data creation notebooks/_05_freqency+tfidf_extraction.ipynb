{
  "nbformat": 4,
  "nbformat_minor": 0,
  "metadata": {
    "colab": {
      "name": "#05 freqency+tfidf extraction.ipynb",
      "provenance": [],
      "collapsed_sections": [],
      "toc_visible": true
    },
    "kernelspec": {
      "display_name": "Python 3",
      "language": "python",
      "name": "python3"
    },
    "language_info": {
      "codemirror_mode": {
        "name": "ipython",
        "version": 3
      },
      "file_extension": ".py",
      "mimetype": "text/x-python",
      "name": "python",
      "nbconvert_exporter": "python",
      "pygments_lexer": "ipython3",
      "version": "3.8.3"
    }
  },
  "cells": [
    {
      "cell_type": "markdown",
      "metadata": {
        "id": "L6ObdSQRae17"
      },
      "source": [
        "# freqency+tfidf extraction"
      ]
    },
    {
      "cell_type": "code",
      "metadata": {
        "id": "WriyH68tae_h"
      },
      "source": [
        "!pip install transformers -q\n",
        "!pip install sentencepiece -q"
      ],
      "execution_count": null,
      "outputs": []
    },
    {
      "cell_type": "code",
      "metadata": {
        "id": "CMCzVL1_ofdV"
      },
      "source": [
        "import numpy as np\n",
        "import pandas as pd\n",
        "import matplotlib.pyplot as plt\n",
        "import seaborn as sns\n",
        "import re\n",
        "import sklearn\n"
      ],
      "execution_count": null,
      "outputs": []
    },
    {
      "cell_type": "code",
      "metadata": {
        "colab": {
          "base_uri": "https://localhost:8080/"
        },
        "id": "q3-5OOoNGgAf",
        "outputId": "184bc1da-b6bd-45e9-d27d-238fb4bd6d33"
      },
      "source": [
        "from google.colab import drive\n",
        "drive.mount('/content/drive', force_remount=True)"
      ],
      "execution_count": null,
      "outputs": [
        {
          "output_type": "stream",
          "name": "stdout",
          "text": [
            "Mounted at /content/drive\n"
          ]
        }
      ]
    },
    {
      "cell_type": "markdown",
      "metadata": {
        "id": "ZlSgZ9Yj8Lme"
      },
      "source": [
        "## Find the top n frequent words in findings and use them as input to the model"
      ]
    },
    {
      "cell_type": "code",
      "metadata": {
        "colab": {
          "base_uri": "https://localhost:8080/",
          "height": 289
        },
        "id": "Yt9UX5-X2WzU",
        "outputId": "478db07c-0cd1-44f6-e764-af0eca349775"
      },
      "source": [
        "#load the train file\n",
        "chexbert_df = pd.read_csv(\"/content/drive/My Drive/Final project - Zebra/Final data/chexbert&pert reports - train.csv\")\n",
        "chexbert_df = chexbert_df[pd.notna(chexbert_df['report_findings'])]\n",
        "chexbert_df.reset_index(drop=True, inplace=True)\n",
        "chexbert_df.head()"
      ],
      "execution_count": null,
      "outputs": [
        {
          "data": {
            "text/html": [
              "<div>\n",
              "<style scoped>\n",
              "    .dataframe tbody tr th:only-of-type {\n",
              "        vertical-align: middle;\n",
              "    }\n",
              "\n",
              "    .dataframe tbody tr th {\n",
              "        vertical-align: top;\n",
              "    }\n",
              "\n",
              "    .dataframe thead th {\n",
              "        text-align: right;\n",
              "    }\n",
              "</style>\n",
              "<table border=\"1\" class=\"dataframe\">\n",
              "  <thead>\n",
              "    <tr style=\"text-align: right;\">\n",
              "      <th></th>\n",
              "      <th>path</th>\n",
              "      <th>chexpert medical tags</th>\n",
              "      <th>report_impression</th>\n",
              "      <th>report_findings</th>\n",
              "      <th>start_report</th>\n",
              "      <th>chexbert medical tags</th>\n",
              "    </tr>\n",
              "  </thead>\n",
              "  <tbody>\n",
              "    <tr>\n",
              "      <th>0</th>\n",
              "      <td>files/p10/p10000032/s50414267.txt</td>\n",
              "      <td>No Finding positive</td>\n",
              "      <td>IMPRESSION:   No acute cardiopulmonary process.</td>\n",
              "      <td>FINDINGS:   There is no focal consolidation, ...</td>\n",
              "      <td>FINAL REPORT ...</td>\n",
              "      <td>No Finding positive</td>\n",
              "    </tr>\n",
              "    <tr>\n",
              "      <th>1</th>\n",
              "      <td>files/p10/p10000032/s53189527.txt</td>\n",
              "      <td>No Finding positive</td>\n",
              "      <td>IMPRESSION:   No acute cardiopulmonary abnorm...</td>\n",
              "      <td>FINDINGS:   The cardiac, mediastinal and hila...</td>\n",
              "      <td>FINAL REPORT ...</td>\n",
              "      <td>No Finding positive</td>\n",
              "    </tr>\n",
              "    <tr>\n",
              "      <th>2</th>\n",
              "      <td>files/p10/p10000032/s53911762.txt</td>\n",
              "      <td>No Finding positive</td>\n",
              "      <td>IMPRESSION:   No acute intrathoracic process.</td>\n",
              "      <td>FINDINGS:   Single frontal view of the chest ...</td>\n",
              "      <td>FINAL REPORT ...</td>\n",
              "      <td>No Finding positive</td>\n",
              "    </tr>\n",
              "    <tr>\n",
              "      <th>3</th>\n",
              "      <td>files/p10/p10000032/s56699142.txt</td>\n",
              "      <td>No Finding positive</td>\n",
              "      <td>IMPRESSION:   No acute cardiopulmonary process.</td>\n",
              "      <td>FINDINGS:   The lungs are clear of focal cons...</td>\n",
              "      <td>FINAL REPORT ...</td>\n",
              "      <td>No Finding positive</td>\n",
              "    </tr>\n",
              "    <tr>\n",
              "      <th>4</th>\n",
              "      <td>files/p10/p10000764/s57375967.txt</td>\n",
              "      <td>Consolidation positive ,Pneumonia uncertain</td>\n",
              "      <td>IMPRESSION:   Focal consolidation at the left...</td>\n",
              "      <td>FINDINGS:   PA and lateral views of the chest...</td>\n",
              "      <td>FINAL REPORT ...</td>\n",
              "      <td>Consolidation positive ,Pneumonia uncertain</td>\n",
              "    </tr>\n",
              "  </tbody>\n",
              "</table>\n",
              "</div>"
            ],
            "text/plain": [
              "                                path  ...                        chexbert medical tags\n",
              "0  files/p10/p10000032/s50414267.txt  ...                          No Finding positive\n",
              "1  files/p10/p10000032/s53189527.txt  ...                          No Finding positive\n",
              "2  files/p10/p10000032/s53911762.txt  ...                          No Finding positive\n",
              "3  files/p10/p10000032/s56699142.txt  ...                          No Finding positive\n",
              "4  files/p10/p10000764/s57375967.txt  ...  Consolidation positive ,Pneumonia uncertain\n",
              "\n",
              "[5 rows x 6 columns]"
            ]
          },
          "execution_count": 4,
          "metadata": {},
          "output_type": "execute_result"
        }
      ]
    },
    {
      "cell_type": "code",
      "metadata": {
        "colab": {
          "base_uri": "https://localhost:8080/",
          "height": 289
        },
        "id": "3XvSkrAs2hfM",
        "outputId": "2b25c1e9-9d3e-4631-eae6-48d2aaa0a51c"
      },
      "source": [
        "#load the test file\n",
        "examples_df = pd.read_csv(\"/content/drive/My Drive/Final project - Zebra/Final data/chexbert&pert reports - test.csv\")\n",
        "examples_df = examples_df[pd.notna(examples_df['report_findings'])]\n",
        "examples_df.reset_index(drop=True, inplace=True)\n",
        "examples_df.head()"
      ],
      "execution_count": null,
      "outputs": [
        {
          "data": {
            "text/html": [
              "<div>\n",
              "<style scoped>\n",
              "    .dataframe tbody tr th:only-of-type {\n",
              "        vertical-align: middle;\n",
              "    }\n",
              "\n",
              "    .dataframe tbody tr th {\n",
              "        vertical-align: top;\n",
              "    }\n",
              "\n",
              "    .dataframe thead th {\n",
              "        text-align: right;\n",
              "    }\n",
              "</style>\n",
              "<table border=\"1\" class=\"dataframe\">\n",
              "  <thead>\n",
              "    <tr style=\"text-align: right;\">\n",
              "      <th></th>\n",
              "      <th>path</th>\n",
              "      <th>chexbert medical tags</th>\n",
              "      <th>chexpert medical tags</th>\n",
              "      <th>report_impression</th>\n",
              "      <th>report_findings</th>\n",
              "      <th>start_report</th>\n",
              "    </tr>\n",
              "  </thead>\n",
              "  <tbody>\n",
              "    <tr>\n",
              "      <th>0</th>\n",
              "      <td>files/p10/p10699400/s54816399.txt</td>\n",
              "      <td>No Finding positive</td>\n",
              "      <td>No Finding positive</td>\n",
              "      <td>IMPRESSION:  No acute cardiopulmonary process.</td>\n",
              "      <td>FINDINGS:  The lungs are clear without consol...</td>\n",
              "      <td>FINAL REPORT ...</td>\n",
              "    </tr>\n",
              "    <tr>\n",
              "      <th>1</th>\n",
              "      <td>files/p10/p10699460/s54836969.txt</td>\n",
              "      <td>No Finding positive</td>\n",
              "      <td>No Finding positive</td>\n",
              "      <td>IMPRESSION:  No acute intrathoracic abnormality.</td>\n",
              "      <td>FINDINGS:  PA and lateral views of the chest ...</td>\n",
              "      <td>FINAL REPORT ...</td>\n",
              "    </tr>\n",
              "    <tr>\n",
              "      <th>2</th>\n",
              "      <td>files/p11/p11955295/s51529848.txt</td>\n",
              "      <td>Cardiomegaly positive</td>\n",
              "      <td>Cardiomegaly positive</td>\n",
              "      <td>IMPRESSION:   Heart size is borderline enlarg...</td>\n",
              "      <td>FINDINGS:   There is no CHF, consolidation, p...</td>\n",
              "      <td>FINAL REPORT ...</td>\n",
              "    </tr>\n",
              "    <tr>\n",
              "      <th>3</th>\n",
              "      <td>files/p13/p13050559/s52657655.txt</td>\n",
              "      <td>Lung Opacity positive ,Atelectasis positive ,P...</td>\n",
              "      <td>Atelectasis positive ,Lung Opacity positive ,P...</td>\n",
              "      <td>IMPRESSION:   1.  Stable radiographic appeara...</td>\n",
              "      <td>FINDINGS:   No significant interval change. S...</td>\n",
              "      <td>FINAL REPORT ...</td>\n",
              "    </tr>\n",
              "    <tr>\n",
              "      <th>4</th>\n",
              "      <td>files/p13/p13783064/s58234209.txt</td>\n",
              "      <td>Pneumothorax negative ,Pleural Effusion positive</td>\n",
              "      <td>Pleural Effusion positive ,Pneumothorax negative</td>\n",
              "      <td>IMPRESSION:  Left pleural effusion has decrea...</td>\n",
              "      <td>FINDINGS:  Single supine frontal view of the ...</td>\n",
              "      <td>FINAL REPORT ...</td>\n",
              "    </tr>\n",
              "  </tbody>\n",
              "</table>\n",
              "</div>"
            ],
            "text/plain": [
              "                                path  ...                                       start_report\n",
              "0  files/p10/p10699400/s54816399.txt  ...                                   FINAL REPORT ...\n",
              "1  files/p10/p10699460/s54836969.txt  ...                                   FINAL REPORT ...\n",
              "2  files/p11/p11955295/s51529848.txt  ...                                   FINAL REPORT ...\n",
              "3  files/p13/p13050559/s52657655.txt  ...                                   FINAL REPORT ...\n",
              "4  files/p13/p13783064/s58234209.txt  ...                                   FINAL REPORT ...\n",
              "\n",
              "[5 rows x 6 columns]"
            ]
          },
          "execution_count": 5,
          "metadata": {},
          "output_type": "execute_result"
        }
      ]
    },
    {
      "cell_type": "code",
      "metadata": {
        "colab": {
          "base_uri": "https://localhost:8080/",
          "height": 289
        },
        "id": "7JfqHXlG2vcK",
        "outputId": "65a3e093-f7b0-4828-d524-7149a1fe07e2"
      },
      "source": [
        "#concat both files and extract only findings\n",
        "all_findings = pd.concat([chexbert_df,examples_df])\n",
        "all_findings.reset_index(drop=True, inplace=True)\n",
        "all_findings.head()"
      ],
      "execution_count": null,
      "outputs": [
        {
          "data": {
            "text/html": [
              "<div>\n",
              "<style scoped>\n",
              "    .dataframe tbody tr th:only-of-type {\n",
              "        vertical-align: middle;\n",
              "    }\n",
              "\n",
              "    .dataframe tbody tr th {\n",
              "        vertical-align: top;\n",
              "    }\n",
              "\n",
              "    .dataframe thead th {\n",
              "        text-align: right;\n",
              "    }\n",
              "</style>\n",
              "<table border=\"1\" class=\"dataframe\">\n",
              "  <thead>\n",
              "    <tr style=\"text-align: right;\">\n",
              "      <th></th>\n",
              "      <th>path</th>\n",
              "      <th>chexpert medical tags</th>\n",
              "      <th>report_impression</th>\n",
              "      <th>report_findings</th>\n",
              "      <th>start_report</th>\n",
              "      <th>chexbert medical tags</th>\n",
              "    </tr>\n",
              "  </thead>\n",
              "  <tbody>\n",
              "    <tr>\n",
              "      <th>0</th>\n",
              "      <td>files/p10/p10000032/s50414267.txt</td>\n",
              "      <td>No Finding positive</td>\n",
              "      <td>IMPRESSION:   No acute cardiopulmonary process.</td>\n",
              "      <td>FINDINGS:   There is no focal consolidation, ...</td>\n",
              "      <td>FINAL REPORT ...</td>\n",
              "      <td>No Finding positive</td>\n",
              "    </tr>\n",
              "    <tr>\n",
              "      <th>1</th>\n",
              "      <td>files/p10/p10000032/s53189527.txt</td>\n",
              "      <td>No Finding positive</td>\n",
              "      <td>IMPRESSION:   No acute cardiopulmonary abnorm...</td>\n",
              "      <td>FINDINGS:   The cardiac, mediastinal and hila...</td>\n",
              "      <td>FINAL REPORT ...</td>\n",
              "      <td>No Finding positive</td>\n",
              "    </tr>\n",
              "    <tr>\n",
              "      <th>2</th>\n",
              "      <td>files/p10/p10000032/s53911762.txt</td>\n",
              "      <td>No Finding positive</td>\n",
              "      <td>IMPRESSION:   No acute intrathoracic process.</td>\n",
              "      <td>FINDINGS:   Single frontal view of the chest ...</td>\n",
              "      <td>FINAL REPORT ...</td>\n",
              "      <td>No Finding positive</td>\n",
              "    </tr>\n",
              "    <tr>\n",
              "      <th>3</th>\n",
              "      <td>files/p10/p10000032/s56699142.txt</td>\n",
              "      <td>No Finding positive</td>\n",
              "      <td>IMPRESSION:   No acute cardiopulmonary process.</td>\n",
              "      <td>FINDINGS:   The lungs are clear of focal cons...</td>\n",
              "      <td>FINAL REPORT ...</td>\n",
              "      <td>No Finding positive</td>\n",
              "    </tr>\n",
              "    <tr>\n",
              "      <th>4</th>\n",
              "      <td>files/p10/p10000764/s57375967.txt</td>\n",
              "      <td>Consolidation positive ,Pneumonia uncertain</td>\n",
              "      <td>IMPRESSION:   Focal consolidation at the left...</td>\n",
              "      <td>FINDINGS:   PA and lateral views of the chest...</td>\n",
              "      <td>FINAL REPORT ...</td>\n",
              "      <td>Consolidation positive ,Pneumonia uncertain</td>\n",
              "    </tr>\n",
              "  </tbody>\n",
              "</table>\n",
              "</div>"
            ],
            "text/plain": [
              "                                path  ...                        chexbert medical tags\n",
              "0  files/p10/p10000032/s50414267.txt  ...                          No Finding positive\n",
              "1  files/p10/p10000032/s53189527.txt  ...                          No Finding positive\n",
              "2  files/p10/p10000032/s53911762.txt  ...                          No Finding positive\n",
              "3  files/p10/p10000032/s56699142.txt  ...                          No Finding positive\n",
              "4  files/p10/p10000764/s57375967.txt  ...  Consolidation positive ,Pneumonia uncertain\n",
              "\n",
              "[5 rows x 6 columns]"
            ]
          },
          "execution_count": 6,
          "metadata": {},
          "output_type": "execute_result"
        }
      ]
    },
    {
      "cell_type": "code",
      "metadata": {
        "colab": {
          "base_uri": "https://localhost:8080/"
        },
        "id": "TIsjAsU98yVw",
        "outputId": "7663958c-57a3-4003-8272-247696bb5e9c"
      },
      "source": [
        "#extract the top n words in a df column\n",
        "def frequent_words(n, df, column):\n",
        "    \n",
        "    #count words in the given column\n",
        "    count_freq ={}\n",
        "    for index, report in df.iterrows():\n",
        "        findings_str = str(report[column]) \n",
        "        for word in re.findall(r'\\w+', findings_str):\n",
        "            if word not in count_freq.keys():\n",
        "                count_freq.update({word:1}) \n",
        "            else:\n",
        "                count_freq[word]+=1\n",
        "     \n",
        "    #sort from most frequent to the less\n",
        "    count_freq = dict(sorted(count_freq.items(), key=lambda item: item[1], reverse = True))   \n",
        "    #print(count_freq)\n",
        "    \n",
        "    #extract only the first n words\n",
        "    frequent_words = []\n",
        "    for index, key in enumerate(count_freq):\n",
        "        if index<n:\n",
        "            frequent_words.append(key)\n",
        "        else:\n",
        "            break\n",
        "            \n",
        "    important_frequent_findings_words = [\"atelectasis\", \"pneumonia\", \"pleural\", \"effusion\", \"lung\", \"opacity\", \"cardiomediastinum\", \"edema\", \"consolidation\", \"cardiomegaly\", \"pneumothorax\", \"tube\", \"lungs\", \"opacities\", \"congestion\"]\n",
        "    for word in important_frequent_findings_words:\n",
        "      if word not in frequent_words:\n",
        "        frequent_words.append(word)\n",
        "    if \"___\" in frequent_words:\n",
        "      frequent_words.remove(\"___\")\n",
        "\n",
        "    return frequent_words\n",
        "\n",
        "frequent_findings_words_25 = frequent_words(6, all_findings, 'report_findings')\n",
        "frequent_findings_words_50 = frequent_words(43, all_findings, 'report_findings')\n",
        "frequent_findings_words_75 = frequent_words(200, all_findings, 'report_findings')\n",
        "\n",
        "\n",
        "print(\"the most frequent words in findings section are {}\".format(frequent_findings_words_75))\n"
      ],
      "execution_count": null,
      "outputs": [
        {
          "name": "stdout",
          "output_type": "stream",
          "text": [
            "the most frequent words in findings section are ['is', 'the', 'are', 'of', 'and', 'The', 'FINDINGS', 'There', 'pleural', 'in', 'right', 'effusion', 'pneumothorax', 'No', 'or', 'no', 'normal', 'left', 'with', 'to', 'seen', 'lung', 'chest', 'pulmonary', 'consolidation', 'silhouette', 'clear', 'a', 'focal', 'unchanged', 'contours', 'size', 'lungs', 'atelectasis', 'mediastinal', 'lateral', 'edema', 'hilar', 'tube', 'at', 'on', 'prior', 'cardiac', 'cardiomediastinal', 'lower', 'has', 'noted', 'stable', 'within', 'unremarkable', 'heart', 'opacity', 'upper', 'there', 'volumes', 'A', 'acute', 'mild', 'osseous', 'be', 'views', 'pneumonia', 'effusions', 'evidence', 'radiograph', 'opacities', 'study', 'compared', 'limits', 'structures', 'small', 'lobe', 'likely', 'low', 'without', 'from', 'vascular', 'for', 'tip', 'enlarged', 'again', 'Heart', 'bilateral', 'been', 'not', 'base', 'which', 'sided', 'present', 'previous', 'position', 'well', 'identified', 'PA', 'Cardiomediastinal', 'thoracic', 'congestion', 'as', 'view', 'patient', 'but', 'hemidiaphragm', 'abnormalities', 'mid', 'catheter', 'moderate', 'may', 'increased', 'changes', 'new', 'Lungs', 'appear', 'intact', 'cardiomegaly', 'aorta', 'Mild', 'change', 'vasculature', 'large', 'air', 'over', 'interval', 'Right', 'AP', 'appears', 'cm', 'obtained', 'SVC', 'mildly', 'slightly', 'In', 'Frontal', 'As', 'this', 'silhouettes', 'due', 'spine', 'terminates', 'comparison', 'Mediastinal', 'were', 'Left', 'provided', 'similar', 'interstitial', 'free', 'below', 'line', 'also', 'rib', 'appearance', 'Cardiac', 'an', 'Lung', 'CT', 'bases', 'upright', 'remains', 'could', 'consistent', 'exam', 'carina', 'expanded', 'since', 'central', 'abnormality', 'PICC', 'stomach', 'sternotomy', 'basilar', 'bibasilar', 'improved', 'have', 'radiographs', 'opacification', 'visualized', 'retrocardiac', 'Moderate', 'above', 'aortic', 'by', 'than', 'post', 'demonstrate', 'top', 'otherwise', 'contour', 'wires', 'abdomen', 'portable', 'clips', 'Pulmonary', 'atrium', 'tortuous', 'costophrenic', 'region', 'Bony', 'reflect', 'more', 'cardiomediastinum']\n"
          ]
        }
      ]
    },
    {
      "cell_type": "code",
      "metadata": {
        "colab": {
          "base_uri": "https://localhost:8080/",
          "height": 442
        },
        "id": "3Vy5KCMO-geR",
        "outputId": "07380b54-67db-4cf1-d42f-078b5b87007a"
      },
      "source": [
        "def input_only_freq(findings_df, frequent_findings_words):\n",
        "  freq_findings = \"\"\n",
        "  flag_found = False\n",
        "  count_total_words = 0\n",
        "  count_words_in_input = 0\n",
        "\n",
        "  df_output = pd.DataFrame({'freq' : []})\n",
        "\n",
        "\n",
        "  for i in range (len(findings_df)):\n",
        "      current_findings = str(findings_df.loc[i,'report_findings']) #extract current findings\n",
        "      current_findings = current_findings.split(\".\") #split to sentences\n",
        "\n",
        "\n",
        "      #iterate through all sentences in findings\n",
        "      for sen in current_findings:\n",
        "        words_in_sen = sen.split()\n",
        "        for word in words_in_sen:\n",
        "          count_total_words +=1  \n",
        "          if (word in frequent_findings_words):\n",
        "            count_words_in_input +=1  \n",
        "            freq_findings = freq_findings+str(word)+\" \"\n",
        "            flag_found = True\n",
        "        if flag_found == True:\n",
        "          freq_findings = freq_findings+str(\", \")\n",
        "        flag_found = False\n",
        "      \n",
        "      #print(current_findings)\n",
        "      #print(freq_findings)\n",
        "      df_output.loc[i, 'freq'] = freq_findings\n",
        "      freq_findings = \"\"\n",
        "\n",
        "  print(\"input contain only {}% from the findings report\".format(count_words_in_input/count_total_words*100))\n",
        "  return df_output\n",
        "\n",
        "#Contain on avg 25% of the findings section in each report which are most freq + medical labels\n",
        "top_25 = input_only_freq(all_findings, frequent_findings_words_25)\n",
        "top_25_to_examples = top_25[-15:]\n",
        "top_25_to_examples.reset_index(drop=True, inplace=True)\n",
        "\n",
        "#Contain on avg 50% of the findings section in each report which are most freq + medical labels\n",
        "top_50 = input_only_freq(all_findings, frequent_findings_words_50)\n",
        "top_50_to_examples = top_50[-15:]\n",
        "top_50_to_examples.reset_index(drop=True, inplace=True)\n",
        "\n",
        "#Contain on avg 75% of the findings section in each report which are most freq + medical labels\n",
        "top_75 = input_only_freq(all_findings, frequent_findings_words_75)\n",
        "top_75_to_examples = top_75[-15:]\n",
        "top_75_to_examples.reset_index(drop=True, inplace=True)\n",
        "\n",
        "chexbert_df['freq_25%'] = top_25[:-15]\n",
        "examples_df['freq_25%'] = top_25_to_examples\n",
        "\n",
        "chexbert_df['freq_50%'] = top_50[:-15]\n",
        "examples_df['freq_50%'] = top_50_to_examples\n",
        "\n",
        "chexbert_df['freq_75%'] = top_75[:-15]\n",
        "examples_df['freq_75%'] = top_75_to_examples\n",
        "\n",
        "chexbert_df.head()            "
      ],
      "execution_count": null,
      "outputs": [
        {
          "name": "stdout",
          "output_type": "stream",
          "text": [
            "input contain only 27.705083704427054% from the findings report\n",
            "input contain only 49.56014201185933% from the findings report\n",
            "input contain only 74.28367399820543% from the findings report\n"
          ]
        },
        {
          "data": {
            "text/html": [
              "<div>\n",
              "<style scoped>\n",
              "    .dataframe tbody tr th:only-of-type {\n",
              "        vertical-align: middle;\n",
              "    }\n",
              "\n",
              "    .dataframe tbody tr th {\n",
              "        vertical-align: top;\n",
              "    }\n",
              "\n",
              "    .dataframe thead th {\n",
              "        text-align: right;\n",
              "    }\n",
              "</style>\n",
              "<table border=\"1\" class=\"dataframe\">\n",
              "  <thead>\n",
              "    <tr style=\"text-align: right;\">\n",
              "      <th></th>\n",
              "      <th>path</th>\n",
              "      <th>chexpert medical tags</th>\n",
              "      <th>report_impression</th>\n",
              "      <th>report_findings</th>\n",
              "      <th>start_report</th>\n",
              "      <th>chexbert medical tags</th>\n",
              "      <th>freq_25%</th>\n",
              "      <th>freq_50%</th>\n",
              "      <th>freq_75%</th>\n",
              "    </tr>\n",
              "  </thead>\n",
              "  <tbody>\n",
              "    <tr>\n",
              "      <th>0</th>\n",
              "      <td>files/p10/p10000032/s50414267.txt</td>\n",
              "      <td>No Finding positive</td>\n",
              "      <td>IMPRESSION:   No acute cardiopulmonary process.</td>\n",
              "      <td>FINDINGS:   There is no focal consolidation, ...</td>\n",
              "      <td>FINAL REPORT ...</td>\n",
              "      <td>No Finding positive</td>\n",
              "      <td>is pleural effusion pneumothorax , opacities ,...</td>\n",
              "      <td>There is no focal pleural effusion or pneumoth...</td>\n",
              "      <td>There is no focal pleural effusion or pneumoth...</td>\n",
              "    </tr>\n",
              "    <tr>\n",
              "      <th>1</th>\n",
              "      <td>files/p10/p10000032/s53189527.txt</td>\n",
              "      <td>No Finding positive</td>\n",
              "      <td>IMPRESSION:   No acute cardiopulmonary abnorm...</td>\n",
              "      <td>FINDINGS:   The cardiac, mediastinal and hila...</td>\n",
              "      <td>FINAL REPORT ...</td>\n",
              "      <td>No Finding positive</td>\n",
              "      <td>The and are , is , are , pleural effusion pneu...</td>\n",
              "      <td>The mediastinal and hilar contours are normal ...</td>\n",
              "      <td>The mediastinal and hilar contours are normal ...</td>\n",
              "    </tr>\n",
              "    <tr>\n",
              "      <th>2</th>\n",
              "      <td>files/p10/p10000032/s53911762.txt</td>\n",
              "      <td>No Finding positive</td>\n",
              "      <td>IMPRESSION:   No acute intrathoracic process.</td>\n",
              "      <td>FINDINGS:   Single frontal view of the chest ...</td>\n",
              "      <td>FINAL REPORT ...</td>\n",
              "      <td>No Finding positive</td>\n",
              "      <td>of the , is pneumothorax , The is , are the an...</td>\n",
              "      <td>of the chest , There is no focal or pneumothor...</td>\n",
              "      <td>view of the chest provided , There is no focal...</td>\n",
              "    </tr>\n",
              "    <tr>\n",
              "      <th>3</th>\n",
              "      <td>files/p10/p10000032/s56699142.txt</td>\n",
              "      <td>No Finding positive</td>\n",
              "      <td>IMPRESSION:   No acute cardiopulmonary process.</td>\n",
              "      <td>FINDINGS:   The lungs are clear of focal cons...</td>\n",
              "      <td>FINAL REPORT ...</td>\n",
              "      <td>No Finding positive</td>\n",
              "      <td>The lungs are of pleural effusion pneumothorax...</td>\n",
              "      <td>The lungs are clear of focal pleural effusion ...</td>\n",
              "      <td>The lungs are clear of focal pleural effusion ...</td>\n",
              "    </tr>\n",
              "    <tr>\n",
              "      <th>4</th>\n",
              "      <td>files/p10/p10000764/s57375967.txt</td>\n",
              "      <td>Consolidation positive ,Pneumonia uncertain</td>\n",
              "      <td>IMPRESSION:   Focal consolidation at the left...</td>\n",
              "      <td>FINDINGS:   PA and lateral views of the chest...</td>\n",
              "      <td>FINAL REPORT ...</td>\n",
              "      <td>Consolidation positive ,Pneumonia uncertain</td>\n",
              "      <td>and of the , The lungs are , is consolidation ...</td>\n",
              "      <td>and lateral of the chest , The lungs are , The...</td>\n",
              "      <td>PA and lateral views of the chest provided , T...</td>\n",
              "    </tr>\n",
              "  </tbody>\n",
              "</table>\n",
              "</div>"
            ],
            "text/plain": [
              "                                path  ...                                           freq_75%\n",
              "0  files/p10/p10000032/s50414267.txt  ...  There is no focal pleural effusion or pneumoth...\n",
              "1  files/p10/p10000032/s53189527.txt  ...  The mediastinal and hilar contours are normal ...\n",
              "2  files/p10/p10000032/s53911762.txt  ...  view of the chest provided , There is no focal...\n",
              "3  files/p10/p10000032/s56699142.txt  ...  The lungs are clear of focal pleural effusion ...\n",
              "4  files/p10/p10000764/s57375967.txt  ...  PA and lateral views of the chest provided , T...\n",
              "\n",
              "[5 rows x 9 columns]"
            ]
          },
          "execution_count": 8,
          "metadata": {},
          "output_type": "execute_result"
        }
      ]
    },
    {
      "cell_type": "code",
      "metadata": {
        "colab": {
          "base_uri": "https://localhost:8080/",
          "height": 17
        },
        "id": "NSDapeyMK0y3",
        "outputId": "ee87cd1a-bb6d-4e9f-e6bd-414fbbfcedc0"
      },
      "source": [
        "from google.colab import drive\n",
        "from google.colab import files\n",
        "\n",
        "chexbert_df.to_csv('findings_freq.csv', index = False)\n",
        "files.download(\"findings_freq.csv\")\n",
        "\n",
        "examples_df.to_csv('examples_freq.csv', index = False)\n",
        "files.download(\"examples_freq.csv\")"
      ],
      "execution_count": null,
      "outputs": [
        {
          "data": {
            "application/javascript": [
              "\n",
              "    async function download(id, filename, size) {\n",
              "      if (!google.colab.kernel.accessAllowed) {\n",
              "        return;\n",
              "      }\n",
              "      const div = document.createElement('div');\n",
              "      const label = document.createElement('label');\n",
              "      label.textContent = `Downloading \"${filename}\": `;\n",
              "      div.appendChild(label);\n",
              "      const progress = document.createElement('progress');\n",
              "      progress.max = size;\n",
              "      div.appendChild(progress);\n",
              "      document.body.appendChild(div);\n",
              "\n",
              "      const buffers = [];\n",
              "      let downloaded = 0;\n",
              "\n",
              "      const channel = await google.colab.kernel.comms.open(id);\n",
              "      // Send a message to notify the kernel that we're ready.\n",
              "      channel.send({})\n",
              "\n",
              "      for await (const message of channel.messages) {\n",
              "        // Send a message to notify the kernel that we're ready.\n",
              "        channel.send({})\n",
              "        if (message.buffers) {\n",
              "          for (const buffer of message.buffers) {\n",
              "            buffers.push(buffer);\n",
              "            downloaded += buffer.byteLength;\n",
              "            progress.value = downloaded;\n",
              "          }\n",
              "        }\n",
              "      }\n",
              "      const blob = new Blob(buffers, {type: 'application/binary'});\n",
              "      const a = document.createElement('a');\n",
              "      a.href = window.URL.createObjectURL(blob);\n",
              "      a.download = filename;\n",
              "      div.appendChild(a);\n",
              "      a.click();\n",
              "      div.remove();\n",
              "    }\n",
              "  "
            ],
            "text/plain": [
              "<IPython.core.display.Javascript object>"
            ]
          },
          "metadata": {},
          "output_type": "display_data"
        },
        {
          "data": {
            "application/javascript": [
              "download(\"download_2494925a-5eef-4877-a092-ae7b1dfdbd50\", \"findings_freq.csv\", 191878204)"
            ],
            "text/plain": [
              "<IPython.core.display.Javascript object>"
            ]
          },
          "metadata": {},
          "output_type": "display_data"
        },
        {
          "data": {
            "application/javascript": [
              "\n",
              "    async function download(id, filename, size) {\n",
              "      if (!google.colab.kernel.accessAllowed) {\n",
              "        return;\n",
              "      }\n",
              "      const div = document.createElement('div');\n",
              "      const label = document.createElement('label');\n",
              "      label.textContent = `Downloading \"${filename}\": `;\n",
              "      div.appendChild(label);\n",
              "      const progress = document.createElement('progress');\n",
              "      progress.max = size;\n",
              "      div.appendChild(progress);\n",
              "      document.body.appendChild(div);\n",
              "\n",
              "      const buffers = [];\n",
              "      let downloaded = 0;\n",
              "\n",
              "      const channel = await google.colab.kernel.comms.open(id);\n",
              "      // Send a message to notify the kernel that we're ready.\n",
              "      channel.send({})\n",
              "\n",
              "      for await (const message of channel.messages) {\n",
              "        // Send a message to notify the kernel that we're ready.\n",
              "        channel.send({})\n",
              "        if (message.buffers) {\n",
              "          for (const buffer of message.buffers) {\n",
              "            buffers.push(buffer);\n",
              "            downloaded += buffer.byteLength;\n",
              "            progress.value = downloaded;\n",
              "          }\n",
              "        }\n",
              "      }\n",
              "      const blob = new Blob(buffers, {type: 'application/binary'});\n",
              "      const a = document.createElement('a');\n",
              "      a.href = window.URL.createObjectURL(blob);\n",
              "      a.download = filename;\n",
              "      div.appendChild(a);\n",
              "      a.click();\n",
              "      div.remove();\n",
              "    }\n",
              "  "
            ],
            "text/plain": [
              "<IPython.core.display.Javascript object>"
            ]
          },
          "metadata": {},
          "output_type": "display_data"
        },
        {
          "data": {
            "application/javascript": [
              "download(\"download_517bb613-3eca-418a-851b-3e764a8cf8ef\", \"examples_freq.csv\", 24802)"
            ],
            "text/plain": [
              "<IPython.core.display.Javascript object>"
            ]
          },
          "metadata": {},
          "output_type": "display_data"
        }
      ]
    },
    {
      "cell_type": "markdown",
      "metadata": {
        "id": "wl4GOQtc6bfb"
      },
      "source": [
        "## Find the top n tf-idf words in findings and use them as input to the model - top n word in each findings section"
      ]
    },
    {
      "cell_type": "code",
      "metadata": {
        "colab": {
          "base_uri": "https://localhost:8080/",
          "height": 306
        },
        "id": "lzLihXWR6asz",
        "outputId": "0dc26d48-6947-4e85-9446-cbac7a278445"
      },
      "source": [
        "#load the train file\n",
        "chexbert_df = pd.read_csv(\"/content/drive/My Drive/Final project - Zebra/Final data/chexbert&pert reports - train.csv\")\n",
        "chexbert_df = chexbert_df[pd.notna(chexbert_df['report_findings'])]\n",
        "chexbert_df.reset_index(drop=True, inplace=True)\n",
        "print(len(chexbert_df))\n",
        "chexbert_df.head()"
      ],
      "execution_count": null,
      "outputs": [
        {
          "output_type": "stream",
          "name": "stdout",
          "text": [
            "149796\n"
          ]
        },
        {
          "output_type": "execute_result",
          "data": {
            "text/html": [
              "<div>\n",
              "<style scoped>\n",
              "    .dataframe tbody tr th:only-of-type {\n",
              "        vertical-align: middle;\n",
              "    }\n",
              "\n",
              "    .dataframe tbody tr th {\n",
              "        vertical-align: top;\n",
              "    }\n",
              "\n",
              "    .dataframe thead th {\n",
              "        text-align: right;\n",
              "    }\n",
              "</style>\n",
              "<table border=\"1\" class=\"dataframe\">\n",
              "  <thead>\n",
              "    <tr style=\"text-align: right;\">\n",
              "      <th></th>\n",
              "      <th>path</th>\n",
              "      <th>chexpert medical tags</th>\n",
              "      <th>report_impression</th>\n",
              "      <th>report_findings</th>\n",
              "      <th>start_report</th>\n",
              "      <th>chexbert medical tags</th>\n",
              "    </tr>\n",
              "  </thead>\n",
              "  <tbody>\n",
              "    <tr>\n",
              "      <th>0</th>\n",
              "      <td>files/p10/p10000032/s50414267.txt</td>\n",
              "      <td>No Finding positive</td>\n",
              "      <td>IMPRESSION:   No acute cardiopulmonary process.</td>\n",
              "      <td>FINDINGS:   There is no focal consolidation, ...</td>\n",
              "      <td>FINAL REPORT ...</td>\n",
              "      <td>No Finding positive</td>\n",
              "    </tr>\n",
              "    <tr>\n",
              "      <th>1</th>\n",
              "      <td>files/p10/p10000032/s53189527.txt</td>\n",
              "      <td>No Finding positive</td>\n",
              "      <td>IMPRESSION:   No acute cardiopulmonary abnorm...</td>\n",
              "      <td>FINDINGS:   The cardiac, mediastinal and hila...</td>\n",
              "      <td>FINAL REPORT ...</td>\n",
              "      <td>No Finding positive</td>\n",
              "    </tr>\n",
              "    <tr>\n",
              "      <th>2</th>\n",
              "      <td>files/p10/p10000032/s53911762.txt</td>\n",
              "      <td>No Finding positive</td>\n",
              "      <td>IMPRESSION:   No acute intrathoracic process.</td>\n",
              "      <td>FINDINGS:   Single frontal view of the chest ...</td>\n",
              "      <td>FINAL REPORT ...</td>\n",
              "      <td>No Finding positive</td>\n",
              "    </tr>\n",
              "    <tr>\n",
              "      <th>3</th>\n",
              "      <td>files/p10/p10000032/s56699142.txt</td>\n",
              "      <td>No Finding positive</td>\n",
              "      <td>IMPRESSION:   No acute cardiopulmonary process.</td>\n",
              "      <td>FINDINGS:   The lungs are clear of focal cons...</td>\n",
              "      <td>FINAL REPORT ...</td>\n",
              "      <td>No Finding positive</td>\n",
              "    </tr>\n",
              "    <tr>\n",
              "      <th>4</th>\n",
              "      <td>files/p10/p10000764/s57375967.txt</td>\n",
              "      <td>Consolidation positive ,Pneumonia uncertain</td>\n",
              "      <td>IMPRESSION:   Focal consolidation at the left...</td>\n",
              "      <td>FINDINGS:   PA and lateral views of the chest...</td>\n",
              "      <td>FINAL REPORT ...</td>\n",
              "      <td>Consolidation positive ,Pneumonia uncertain</td>\n",
              "    </tr>\n",
              "  </tbody>\n",
              "</table>\n",
              "</div>"
            ],
            "text/plain": [
              "                                path  ...                        chexbert medical tags\n",
              "0  files/p10/p10000032/s50414267.txt  ...                          No Finding positive\n",
              "1  files/p10/p10000032/s53189527.txt  ...                          No Finding positive\n",
              "2  files/p10/p10000032/s53911762.txt  ...                          No Finding positive\n",
              "3  files/p10/p10000032/s56699142.txt  ...                          No Finding positive\n",
              "4  files/p10/p10000764/s57375967.txt  ...  Consolidation positive ,Pneumonia uncertain\n",
              "\n",
              "[5 rows x 6 columns]"
            ]
          },
          "metadata": {},
          "execution_count": 4
        }
      ]
    },
    {
      "cell_type": "code",
      "metadata": {
        "colab": {
          "base_uri": "https://localhost:8080/",
          "height": 306
        },
        "id": "tXyASucSEozZ",
        "outputId": "5c683b52-4d66-4842-da66-ad01ecf5ecfb"
      },
      "source": [
        "#load the test file\n",
        "examples_df = pd.read_csv(\"/content/drive/My Drive/Final project - Zebra/Final data/chexbert&pert reports - test.csv\")\n",
        "examples_df = examples_df[pd.notna(examples_df['report_findings'])]\n",
        "examples_df.reset_index(drop=True, inplace=True)\n",
        "print(len(examples_df))\n",
        "examples_df.head()\n"
      ],
      "execution_count": null,
      "outputs": [
        {
          "output_type": "stream",
          "name": "stdout",
          "text": [
            "15\n"
          ]
        },
        {
          "output_type": "execute_result",
          "data": {
            "text/html": [
              "<div>\n",
              "<style scoped>\n",
              "    .dataframe tbody tr th:only-of-type {\n",
              "        vertical-align: middle;\n",
              "    }\n",
              "\n",
              "    .dataframe tbody tr th {\n",
              "        vertical-align: top;\n",
              "    }\n",
              "\n",
              "    .dataframe thead th {\n",
              "        text-align: right;\n",
              "    }\n",
              "</style>\n",
              "<table border=\"1\" class=\"dataframe\">\n",
              "  <thead>\n",
              "    <tr style=\"text-align: right;\">\n",
              "      <th></th>\n",
              "      <th>path</th>\n",
              "      <th>chexbert medical tags</th>\n",
              "      <th>chexpert medical tags</th>\n",
              "      <th>report_impression</th>\n",
              "      <th>report_findings</th>\n",
              "      <th>start_report</th>\n",
              "    </tr>\n",
              "  </thead>\n",
              "  <tbody>\n",
              "    <tr>\n",
              "      <th>0</th>\n",
              "      <td>files/p10/p10699400/s54816399.txt</td>\n",
              "      <td>No Finding positive</td>\n",
              "      <td>No Finding positive</td>\n",
              "      <td>IMPRESSION:  No acute cardiopulmonary process.</td>\n",
              "      <td>FINDINGS:  The lungs are clear without consol...</td>\n",
              "      <td>FINAL REPORT ...</td>\n",
              "    </tr>\n",
              "    <tr>\n",
              "      <th>1</th>\n",
              "      <td>files/p10/p10699460/s54836969.txt</td>\n",
              "      <td>No Finding positive</td>\n",
              "      <td>No Finding positive</td>\n",
              "      <td>IMPRESSION:  No acute intrathoracic abnormality.</td>\n",
              "      <td>FINDINGS:  PA and lateral views of the chest ...</td>\n",
              "      <td>FINAL REPORT ...</td>\n",
              "    </tr>\n",
              "    <tr>\n",
              "      <th>2</th>\n",
              "      <td>files/p11/p11955295/s51529848.txt</td>\n",
              "      <td>Cardiomegaly positive</td>\n",
              "      <td>Cardiomegaly positive</td>\n",
              "      <td>IMPRESSION:   Heart size is borderline enlarg...</td>\n",
              "      <td>FINDINGS:   There is no CHF, consolidation, p...</td>\n",
              "      <td>FINAL REPORT ...</td>\n",
              "    </tr>\n",
              "    <tr>\n",
              "      <th>3</th>\n",
              "      <td>files/p13/p13050559/s52657655.txt</td>\n",
              "      <td>Lung Opacity positive ,Atelectasis positive ,P...</td>\n",
              "      <td>Atelectasis positive ,Lung Opacity positive ,P...</td>\n",
              "      <td>IMPRESSION:   1.  Stable radiographic appeara...</td>\n",
              "      <td>FINDINGS:   No significant interval change. S...</td>\n",
              "      <td>FINAL REPORT ...</td>\n",
              "    </tr>\n",
              "    <tr>\n",
              "      <th>4</th>\n",
              "      <td>files/p13/p13783064/s58234209.txt</td>\n",
              "      <td>Pneumothorax negative ,Pleural Effusion positive</td>\n",
              "      <td>Pleural Effusion positive ,Pneumothorax negative</td>\n",
              "      <td>IMPRESSION:  Left pleural effusion has decrea...</td>\n",
              "      <td>FINDINGS:  Single supine frontal view of the ...</td>\n",
              "      <td>FINAL REPORT ...</td>\n",
              "    </tr>\n",
              "  </tbody>\n",
              "</table>\n",
              "</div>"
            ],
            "text/plain": [
              "                                path  ...                                       start_report\n",
              "0  files/p10/p10699400/s54816399.txt  ...                                   FINAL REPORT ...\n",
              "1  files/p10/p10699460/s54836969.txt  ...                                   FINAL REPORT ...\n",
              "2  files/p11/p11955295/s51529848.txt  ...                                   FINAL REPORT ...\n",
              "3  files/p13/p13050559/s52657655.txt  ...                                   FINAL REPORT ...\n",
              "4  files/p13/p13783064/s58234209.txt  ...                                   FINAL REPORT ...\n",
              "\n",
              "[5 rows x 6 columns]"
            ]
          },
          "metadata": {},
          "execution_count": 5
        }
      ]
    },
    {
      "cell_type": "code",
      "metadata": {
        "id": "3xRpMy8kBTIu"
      },
      "source": [
        "#concat both files and extract only findings\n",
        "all_findings = pd.concat([chexbert_df['report_findings'],examples_df['report_findings']])\n",
        "all_findings.reset_index(drop=True, inplace=True)\n"
      ],
      "execution_count": null,
      "outputs": []
    },
    {
      "cell_type": "code",
      "metadata": {
        "id": "F7mKgV7hXKF1"
      },
      "source": [
        "from sklearn.feature_extraction.text import TfidfTransformer,TfidfVectorizer\n",
        "\n",
        "def tf_idf_words(factor, input_df):\n",
        "\n",
        "  tfidf_findings = \"\"\n",
        "  flag_found = False\n",
        "\n",
        "  df_output = pd.DataFrame({'tfidf' : []})\n",
        "\n",
        "  labels_words = pd.Series([\"atelectasis\", \"pneumonia\", \"pleural\", \"effusion\", \"lung\", \"opacity\",\\\n",
        "                                       \"cardiomediastinum\", \"edema\", \"consolidation\", \"cardiomegaly\", \"pneumothorax\", \"tube\", \"lungs\", \"opacities\", \"congestion\"])\n",
        "\n",
        "  #build tf-idf score to each word in each findings\n",
        "  tfIdfVectorizer=TfidfVectorizer()\n",
        "  tfIdf = tfIdfVectorizer.fit_transform(input_df)\n",
        "\n",
        "  count_total_words = 0 #count all the word across all findings\n",
        "  count_words_in_input = 0 #count only the words in findings that will be extracted by top tf-idf n words\n",
        "\n",
        "  #iterate through all findings\n",
        "  for i in range(len(input_df)):\n",
        "\n",
        "    #create a dataframe of words and scores from highest to lowest and select the top n words with the highest score\n",
        "    tf_idf_df = pd.DataFrame(tfIdf[i].T.todense(), index=tfIdfVectorizer.get_feature_names(), columns=[\"TF-IDF\"])\n",
        "    tf_idf_df = tf_idf_df.sort_values('TF-IDF', ascending=False)\n",
        "    current_findings = str(input_df[i])\n",
        "    count_total_words += len(current_findings.split())\n",
        "\n",
        "    n = int(len(current_findings.split())/factor)\n",
        "    tf_idf_df = tf_idf_df[:n]\n",
        "    tfidf_values = tf_idf_df.index.values\n",
        "    tfidf_values_pd = pd.Series(tfidf_values)\n",
        "\n",
        "    #add the labels \n",
        "    important_words = pd.concat([tfidf_values_pd,  labels_words], axis=0) \n",
        "\n",
        "    current_findings = current_findings.split(\".\") #split to sentences\n",
        "    #iterate through all sentences in findings\n",
        "    for sen in current_findings:\n",
        "      words_in_sen = sen.split()\n",
        "      for word in words_in_sen:\n",
        "        if (word in important_words.tolist()):\n",
        "          count_words_in_input +=1  \n",
        "          tfidf_findings = tfidf_findings+str(word)+\" \"\n",
        "          flag_found = True\n",
        "      if flag_found == True:\n",
        "        tfidf_findings = tfidf_findings+str(\", \")\n",
        "      flag_found = False\n",
        "    \n",
        "    #print(current_findings)\n",
        "    #print(tfidf_findings)\n",
        "    #print(important_words.tolist())\n",
        "    #print(\"-----------------------------------------------------------\")\n",
        "    df_output.loc[i,'tfidf'] = tfidf_findings \n",
        "    tfidf_findings = \"\"\n",
        "\n",
        "\n",
        "  print(\"input contain only {}% from the findings report\".format(count_words_in_input/count_total_words*100))\n",
        "  return df_output"
      ],
      "execution_count": null,
      "outputs": []
    },
    {
      "cell_type": "code",
      "metadata": {
        "colab": {
          "base_uri": "https://localhost:8080/"
        },
        "id": "AbRbLYqT7BNw",
        "outputId": "f1929c74-1304-4896-99ca-f614994bc61b"
      },
      "source": [
        "#Contain on avg 25% of the findings section in each report with most tdidf score + medical labels\n",
        "top_25 = tf_idf_words(9, all_findings)\n",
        "top_25_to_examples = top_25[-15:]\n",
        "top_25_to_examples.reset_index(drop=True, inplace=True)\n",
        "\n",
        "#Contain on avg 50% of the findings section in each report with most tdidf score + medical labels\n",
        "top_50 = tf_idf_words(2.9, all_findings)\n",
        "top_50_to_examples = top_50[-15:]\n",
        "top_50_to_examples.reset_index(drop=True, inplace=True)\n",
        "\n",
        "#Contain on avg 75% of the findings section in each report with most tdidf score + medical labels\n",
        "top_75 = tf_idf_words(1.6, all_findings)\n",
        "top_75_to_examples = top_75[-15:]\n",
        "top_75_to_examples.reset_index(drop=True, inplace=True)\n",
        "\n",
        "chexbert_df['tfidf_25%'] = top_25[:-15]\n",
        "examples_df['tfidf_25%'] = top_25_to_examples\n",
        "\n",
        "chexbert_df['tfidf_50%'] = top_50[:-15]\n",
        "examples_df['tfidf_50%'] = top_50_to_examples\n",
        "\n",
        "chexbert_df['tfidf_75%'] = top_75[:-15]\n",
        "examples_df['tfidf_75%'] = top_75_to_examples\n",
        "\n"
      ],
      "execution_count": null,
      "outputs": [
        {
          "output_type": "stream",
          "name": "stdout",
          "text": [
            "input contain only 22.72278364737279% from the findings report\n",
            "input contain only 48.12111180559256% from the findings report\n",
            "input contain only 73.06109102227654% from the findings report\n"
          ]
        }
      ]
    },
    {
      "cell_type": "code",
      "metadata": {
        "colab": {
          "base_uri": "https://localhost:8080/"
        },
        "id": "byrMXesQrQba",
        "outputId": "88a37a26-c2df-4cf3-ce63-3075095c6a16"
      },
      "source": [
        "print(chexbert_df['report_findings'][0])\n",
        "print(chexbert_df['tfidf_25%'][0])\n",
        "\n",
        "print(examples_df['report_findings'][0])\n",
        "print(examples_df['tfidf_25%'][0])"
      ],
      "execution_count": null,
      "outputs": [
        {
          "name": "stdout",
          "output_type": "stream",
          "text": [
            " FINDINGS:   There is no focal consolidation, pleural effusion or pneumothorax.  Bilateral nodular opacities that most likely represent nipple shadows. The cardiomediastinal silhouette is normal.  Clips project over the left lung, potentially within the breast. The imaged upper abdomen is unremarkable. Chronic deformity of the posterior left sixth and seventh ribs are noted. \n",
            "pleural effusion pneumothorax , opacities nipple shadows , breast , sixth seventh , \n",
            " FINDINGS:  The lungs are clear without consolidation or edema.  There is no pleural effusion or pneumothorax.  The cardiomediastinal silhouette is normal. \n",
            "lungs without consolidation or edema , pleural effusion or pneumothorax , \n"
          ]
        }
      ]
    },
    {
      "cell_type": "code",
      "metadata": {
        "colab": {
          "base_uri": "https://localhost:8080/"
        },
        "id": "inTy1_vft2Kk",
        "outputId": "777269d7-5ef1-4306-f649-ea01cd0c8976"
      },
      "source": [
        "from google.colab import drive\n",
        "from google.colab import files\n",
        "\n",
        "chexbert_df.to_csv('findings_tfidf.csv', index = False)\n",
        "files.download(\"findings_tfidf.csv\")\n",
        "\n",
        "examples_df.to_csv('examples_tfidf.csv', index = False)\n",
        "files.download(\"examples_tfidf.csv\")"
      ],
      "execution_count": null,
      "outputs": [
        {
          "output_type": "display_data",
          "data": {
            "application/javascript": [
              "\n",
              "    async function download(id, filename, size) {\n",
              "      if (!google.colab.kernel.accessAllowed) {\n",
              "        return;\n",
              "      }\n",
              "      const div = document.createElement('div');\n",
              "      const label = document.createElement('label');\n",
              "      label.textContent = `Downloading \"${filename}\": `;\n",
              "      div.appendChild(label);\n",
              "      const progress = document.createElement('progress');\n",
              "      progress.max = size;\n",
              "      div.appendChild(progress);\n",
              "      document.body.appendChild(div);\n",
              "\n",
              "      const buffers = [];\n",
              "      let downloaded = 0;\n",
              "\n",
              "      const channel = await google.colab.kernel.comms.open(id);\n",
              "      // Send a message to notify the kernel that we're ready.\n",
              "      channel.send({})\n",
              "\n",
              "      for await (const message of channel.messages) {\n",
              "        // Send a message to notify the kernel that we're ready.\n",
              "        channel.send({})\n",
              "        if (message.buffers) {\n",
              "          for (const buffer of message.buffers) {\n",
              "            buffers.push(buffer);\n",
              "            downloaded += buffer.byteLength;\n",
              "            progress.value = downloaded;\n",
              "          }\n",
              "        }\n",
              "      }\n",
              "      const blob = new Blob(buffers, {type: 'application/binary'});\n",
              "      const a = document.createElement('a');\n",
              "      a.href = window.URL.createObjectURL(blob);\n",
              "      a.download = filename;\n",
              "      div.appendChild(a);\n",
              "      a.click();\n",
              "      div.remove();\n",
              "    }\n",
              "  "
            ],
            "text/plain": [
              "<IPython.core.display.Javascript object>"
            ]
          },
          "metadata": {}
        },
        {
          "output_type": "display_data",
          "data": {
            "application/javascript": [
              "download(\"download_b7310d44-c054-4e94-8512-62eb0a8edb2e\", \"findings_tfidf.csv\", 204511734)"
            ],
            "text/plain": [
              "<IPython.core.display.Javascript object>"
            ]
          },
          "metadata": {}
        },
        {
          "output_type": "display_data",
          "data": {
            "application/javascript": [
              "\n",
              "    async function download(id, filename, size) {\n",
              "      if (!google.colab.kernel.accessAllowed) {\n",
              "        return;\n",
              "      }\n",
              "      const div = document.createElement('div');\n",
              "      const label = document.createElement('label');\n",
              "      label.textContent = `Downloading \"${filename}\": `;\n",
              "      div.appendChild(label);\n",
              "      const progress = document.createElement('progress');\n",
              "      progress.max = size;\n",
              "      div.appendChild(progress);\n",
              "      document.body.appendChild(div);\n",
              "\n",
              "      const buffers = [];\n",
              "      let downloaded = 0;\n",
              "\n",
              "      const channel = await google.colab.kernel.comms.open(id);\n",
              "      // Send a message to notify the kernel that we're ready.\n",
              "      channel.send({})\n",
              "\n",
              "      for await (const message of channel.messages) {\n",
              "        // Send a message to notify the kernel that we're ready.\n",
              "        channel.send({})\n",
              "        if (message.buffers) {\n",
              "          for (const buffer of message.buffers) {\n",
              "            buffers.push(buffer);\n",
              "            downloaded += buffer.byteLength;\n",
              "            progress.value = downloaded;\n",
              "          }\n",
              "        }\n",
              "      }\n",
              "      const blob = new Blob(buffers, {type: 'application/binary'});\n",
              "      const a = document.createElement('a');\n",
              "      a.href = window.URL.createObjectURL(blob);\n",
              "      a.download = filename;\n",
              "      div.appendChild(a);\n",
              "      a.click();\n",
              "      div.remove();\n",
              "    }\n",
              "  "
            ],
            "text/plain": [
              "<IPython.core.display.Javascript object>"
            ]
          },
          "metadata": {}
        },
        {
          "output_type": "display_data",
          "data": {
            "application/javascript": [
              "download(\"download_4ba46c4b-b4ee-44fb-bf01-225a3aa64eea\", \"examples_tfidf.csv\", 27117)"
            ],
            "text/plain": [
              "<IPython.core.display.Javascript object>"
            ]
          },
          "metadata": {}
        }
      ]
    }
  ]
}